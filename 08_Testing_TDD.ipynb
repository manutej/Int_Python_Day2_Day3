{
 "cells": [
  {
   "cell_type": "markdown",
   "metadata": {},
   "source": [
    "## Test-Driven Development\n",
    "\n",
    "### Test-driven development (TDD) is a powerful approach where tests are written before the actual code. It promotes a more structured and focused development process.\n",
    "\n",
    "- not a library or an API, but rather, TDD is a way of developing software\n",
    "\n",
    "- Python includes awesome support for TDD right out of the box\n",
    "\n",
    "- unit testing has been an integral part of Python since version 2.1 (2001)\n",
    "numerous improvements since then\n",
    "\n",
    "- no excuse for avoiding testing!\n",
    "\n",
    "Testing is an essential part of the software development process. It helps ensure code reliability, maintainability, and correctness."
   ]
  },
  {
   "cell_type": "markdown",
   "metadata": {},
   "source": [
    "### Unit tests focus on testing individual units or components of code in isolation. They help catch bugs early and ensure that each part of the code works as expected."
   ]
  },
  {
   "cell_type": "markdown",
   "metadata": {},
   "source": [
    "### Run the code below in file `my_unittest.py` (Under PROJECTS folder)"
   ]
  },
  {
   "cell_type": "code",
   "execution_count": null,
   "metadata": {},
   "outputs": [],
   "source": [
    "import unittest\n",
    "\n",
    "def add_numbers(a, b):\n",
    "    return a + b\n",
    "\n",
    "class TestAddNumbers(unittest.TestCase):\n",
    "    def test_add_positive_numbers(self):\n",
    "        result = add_numbers(3, 5)\n",
    "        self.assertEqual(result, 8)\n",
    "\n",
    "    def test_add_negative_numbers(self):\n",
    "        result = add_numbers(-2, -7)\n",
    "        self.assertEqual(result, -9)\n",
    "\n",
    "    def test_add_zero(self):\n",
    "        result = add_numbers(0, 0)\n",
    "        self.assertEqual(result, 0)\n",
    "\n",
    "if __name__ == '__main__':\n",
    "    unittest.main()"
   ]
  },
  {
   "cell_type": "markdown",
   "metadata": {},
   "source": [
    "**Integration tests** verify that different parts of the system work together correctly. They test the interaction between components and ensure proper integration.\n",
    "\n",
    "\n",
    "**Functional tests**, also known as end-to-end tests, test the system from the user's perspective. They ensure that the application behaves as expected from a user's point of view.\n",
    "\n"
   ]
  },
  {
   "cell_type": "markdown",
   "metadata": {},
   "source": [
    "### Hands-on Exercise: Testing a Financial Calculation Library\n",
    "\n",
    "**Objective**: Implement a test suite for a financial calculation library, ensuring all functions work correctly under various scenarios.\n",
    "\n",
    "Create a financial calculation library with functions for simple interest, compound interest, and present value calculations.\n",
    "Write unit tests for each function, covering different input scenarios and edge cases.\n",
    "Use unittest or pytest to create a test suite and run the tests.\n",
    "Perform code coverage analysis using the coverage package to identify any untested code paths.\n",
    "Refactor the code, if necessary, to improve testability and maintainability."
   ]
  },
  {
   "cell_type": "code",
   "execution_count": 1,
   "metadata": {},
   "outputs": [
    {
     "name": "stdout",
     "output_type": "stream",
     "text": [
      "Collecting pytest\n",
      "  Downloading pytest-8.0.2-py3-none-any.whl.metadata (7.7 kB)\n",
      "Collecting coverage\n",
      "  Downloading coverage-7.4.3-cp311-cp311-macosx_11_0_arm64.whl.metadata (8.2 kB)\n",
      "Collecting iniconfig (from pytest)\n",
      "  Downloading iniconfig-2.0.0-py3-none-any.whl.metadata (2.6 kB)\n",
      "Requirement already satisfied: packaging in /Users/melodia/Documents/MANU/Int_Python/myenv/lib/python3.11/site-packages (from pytest) (23.2)\n",
      "Collecting pluggy<2.0,>=1.3.0 (from pytest)\n",
      "  Downloading pluggy-1.4.0-py3-none-any.whl.metadata (4.3 kB)\n",
      "Downloading pytest-8.0.2-py3-none-any.whl (333 kB)\n",
      "\u001b[2K   \u001b[90m━━━━━━━━━━━━━━━━━━━━━━━━━━━━━━━━━━━━━━━━\u001b[0m \u001b[32m334.0/334.0 kB\u001b[0m \u001b[31m4.7 MB/s\u001b[0m eta \u001b[36m0:00:00\u001b[0m00:01\u001b[0m00:01\u001b[0m\n",
      "\u001b[?25hDownloading coverage-7.4.3-cp311-cp311-macosx_11_0_arm64.whl (207 kB)\n",
      "\u001b[2K   \u001b[90m━━━━━━━━━━━━━━━━━━━━━━━━━━━━━━━━━━━━━━━━\u001b[0m \u001b[32m207.2/207.2 kB\u001b[0m \u001b[31m5.1 MB/s\u001b[0m eta \u001b[36m0:00:00\u001b[0m00:01\u001b[0m\n",
      "\u001b[?25hDownloading pluggy-1.4.0-py3-none-any.whl (20 kB)\n",
      "Downloading iniconfig-2.0.0-py3-none-any.whl (5.9 kB)\n",
      "Installing collected packages: pluggy, iniconfig, coverage, pytest\n",
      "Successfully installed coverage-7.4.3 iniconfig-2.0.0 pluggy-1.4.0 pytest-8.0.2\n"
     ]
    }
   ],
   "source": [
    "!pip install pytest coverage\n"
   ]
  },
  {
   "cell_type": "markdown",
   "metadata": {},
   "source": [
    "Mocking is a technique used to simulate the behavior of external dependencies or complex objects during testing. Python's unittest.mock module provides powerful mocking capabilities."
   ]
  },
  {
   "cell_type": "markdown",
   "metadata": {},
   "source": [
    "\n",
    "### Check out finance_calculations.py and # test_finance_calculations.py for solution\n",
    "\n",
    "Once ready, you will navigate in your venv terminal environment to the folder where the `test_finance_calculations.py` file is held and then you will run the following code from terminal:\n",
    "\n",
    "```pytest test_finance_calculations.py```"
   ]
  },
  {
   "cell_type": "markdown",
   "metadata": {},
   "source": [
    "\n",
    "\n",
    "\n",
    "### Other TDD Tips:\n",
    "\n",
    "    - Code coverage analysis helps identify parts of the code that are not covered by tests. \n",
    "    - It gives insights into the thoroughness of the test suite and highlights areas that need additional testing.\n",
    "\n",
    "### Writing testable code is crucial:\n",
    "    - It involves designing code that is modular, loosely coupled, and easily testable. \n",
    "    \n",
    "    - Dependency injection and clear separation of concerns are key principles.\n",
    "    \n",
    "Continuous integration (CI) and continuous delivery (CD) practices involve automatically running tests whenever changes are made to the codebase. This helps catch issues early and ensures a more stable and reliable software development process."
   ]
  },
  {
   "cell_type": "markdown",
   "metadata": {},
   "source": [
    "### A Sample Class: FunnyList\n",
    "same as a list but two FunnyLists w/same elements compare as equal even if they are in different order\n",
    "\n",
    "while we're at it, we added some convenient features\n",
    "\n",
    "a FunnyList can be generated from a simple type, not just from a list\n",
    "we can add ('+') a simple type to a FunnyList, which can't be done with a standard list\n"
   ]
  },
  {
   "cell_type": "code",
   "execution_count": 2,
   "metadata": {},
   "outputs": [],
   "source": [
    "class FunnyList(list):\n",
    "    def __init__(self, item):\n",
    "        \"\"\"Allows us to create a FunnyList not only from a list,\n",
    "           but ALSO from a single element\n",
    "        \"\"\"\n",
    "        if isinstance(item, list):\n",
    "            return super().__init__(item)\n",
    "        else:\n",
    "            return super().__init__([item])\n",
    "    \n",
    "    def __eq__(self, other):\n",
    "        \"\"\"Check for equality without concern for order.\n",
    "           If the sorted versions of two FunnyLists are the\n",
    "           same, then we deem the FunnyLists to be the same.\n",
    "        \"\"\"\n",
    "        return sorted(self) == sorted(other)\n",
    "\n",
    "    def __ne__(self, other):\n",
    "        return sorted(self) != sorted(other)\n",
    "\n",
    "    def __add__(self, thing):\n",
    "        \"\"\"Add to a FunnyList. Distinguish between adding a\n",
    "           list/FunnyList, and something else.\n",
    "        \"\"\"\n",
    "        if not isinstance(thing, list):\n",
    "            return FunnyList(super().__add__([thing]))\n",
    "\n",
    "        return FunnyList(super().__add__(thing))\n",
    "    \n",
    "    def __iadd__(self, thing):\n",
    "        \"\"\"Same as above except this is += instead of +.\"\"\"\n",
    "        if issubclass(thing.__class__, list):\n",
    "            return self + thing\n",
    "        else:\n",
    "            return self + [thing]"
   ]
  },
  {
   "cell_type": "code",
   "execution_count": 3,
   "metadata": {},
   "outputs": [
    {
     "data": {
      "text/plain": [
       "([1, 2, 3], __main__.FunnyList)"
      ]
     },
     "execution_count": 3,
     "metadata": {},
     "output_type": "execute_result"
    }
   ],
   "source": [
    "fl = FunnyList([1, 2])\n",
    "fl += 3\n",
    "fl, type(fl)\n"
   ]
  },
  {
   "cell_type": "code",
   "execution_count": 4,
   "metadata": {},
   "outputs": [
    {
     "data": {
      "text/plain": [
       "True"
      ]
     },
     "execution_count": 4,
     "metadata": {},
     "output_type": "execute_result"
    }
   ],
   "source": [
    "fl1 = FunnyList([1, 2, 3])\n",
    "fl2 = FunnyList([3, 2, 1])\n",
    "fl1 == fl2"
   ]
  },
  {
   "cell_type": "code",
   "execution_count": 5,
   "metadata": {},
   "outputs": [
    {
     "data": {
      "text/plain": [
       "[1, 2, 3, 4]"
      ]
     },
     "execution_count": 5,
     "metadata": {},
     "output_type": "execute_result"
    }
   ],
   "source": [
    "f1 = FunnyList([1, 2, 3])\n",
    "f2 = FunnyList(4)\n",
    "f1 + f2"
   ]
  },
  {
   "cell_type": "code",
   "execution_count": 6,
   "metadata": {},
   "outputs": [
    {
     "data": {
      "text/plain": [
       "[1, 2, 3, 4, 5, 6]"
      ]
     },
     "execution_count": 6,
     "metadata": {},
     "output_type": "execute_result"
    }
   ],
   "source": [
    "l1 = [1, 2, 3]\n",
    "l2 = [4, 5, 6]\n",
    "l1 + l2"
   ]
  },
  {
   "cell_type": "code",
   "execution_count": 7,
   "metadata": {},
   "outputs": [
    {
     "data": {
      "text/plain": [
       "[1, 2, 3, 5]"
      ]
     },
     "execution_count": 7,
     "metadata": {},
     "output_type": "execute_result"
    }
   ],
   "source": [
    "f1 + 5"
   ]
  },
  {
   "cell_type": "markdown",
   "metadata": {},
   "source": [
    "### Let's Try Building up the `FunnyList` Class now..."
   ]
  },
  {
   "cell_type": "code",
   "execution_count": null,
   "metadata": {},
   "outputs": [],
   "source": [
    "# We'll start with an unimplemented class...all tests should fail...?\n",
    "\n",
    "class FunnyList(list):\n",
    "    pass\n",
    "\n"
   ]
  },
  {
   "cell_type": "code",
   "execution_count": null,
   "metadata": {},
   "outputs": [],
   "source": [
    "# %load funnylist1.py\n",
    "\n",
    "class FunnyList(list):\n",
    "    '''This is our first attempt to create a FunnyList class.\n",
    "       The 'list' in the parentheses above means that FunnyList\n",
    "       inherits from the builtin Python list class. So at this\n",
    "       point it is exactly the same as the builtin list class.\n",
    "    '''\n",
    "    pass # pass is a \"do nothing\" statement\n"
   ]
  },
  {
   "cell_type": "code",
   "execution_count": null,
   "metadata": {},
   "outputs": [],
   "source": [
    "from funnylist1 import FunnyList\n",
    "import unittest # Python's unit test module\n",
    "\n",
    "class TestFunnyList(unittest.TestCase):\n",
    "    def setUp(self):\n",
    "        self.list1 = [1, 2, 3] # Python list\n",
    "        self.list2 = [3, 2, 1]\n",
    "        self.fl1 = FunnyList(self.list1)\n",
    "        self.fl2 = FunnyList(self.list2)\n",
    "    \n",
    "    def test_init(self):\n",
    "        self.assertEqual(self.fl1, self.list1) # should be same\n",
    "        self.assertEqual(self.fl2, self.list2) # should be same\n",
    "        \n",
    "    def test_equal(self):\n",
    "        self.assertTrue(self.fl1 == self.fl2)\n",
    "   \n",
    "    def test_plus_obj(self):\n",
    "        self.list1.append(4)\n",
    "        self.fl1 = self.fl1 + 4\n",
    "        self.assertEqual(self.list1, self.fl1)\n",
    "\n",
    "    def test_plus_list(self):\n",
    "        self.list1.append(4)\n",
    "        self.fl1 = self.fl1 + [4]\n",
    "        self.assertEqual(self.list1, self.fl1)\n",
    "        \n",
    "'''command line run\n",
    "if __name__ == '__main__':\n",
    "    unittest.main()\n",
    "'''\n",
    "\n",
    "'''Jupyter run'''\n",
    "suite = unittest.TestLoader().loadTestsFromTestCase(TestFunnyList)\n",
    "unittest.TextTestRunner().run(suite)"
   ]
  },
  {
   "cell_type": "code",
   "execution_count": null,
   "metadata": {},
   "outputs": [],
   "source": [
    "# %load funnylist2.py\n",
    "class FunnyList(list):\n",
    "    def __eq__(self, other):\n",
    "        \"\"\"Check for equality without concern for order.\n",
    "           If the sorted versions of two FunnyLists are the\n",
    "           same, then we deem the FunnyLists to be the same.\n",
    "        \"\"\"\n",
    "        return sorted(self) == sorted(other)"
   ]
  },
  {
   "cell_type": "code",
   "execution_count": null,
   "metadata": {},
   "outputs": [],
   "source": [
    "from funnylist2 import FunnyList\n",
    "import unittest # Python's unit test module\n",
    "\n",
    "class TestFunnyList(unittest.TestCase):\n",
    "    def setUp(self):\n",
    "        self.list1 = [1, 2, 3] # Python list\n",
    "        self.list2 = [3, 2, 1]\n",
    "        self.fl1 = FunnyList(self.list1)\n",
    "        self.fl2 = FunnyList(self.list2)\n",
    "    \n",
    "    def test_init(self):\n",
    "        self.assertEqual(self.fl1, self.list1) # should be same\n",
    "        self.assertEqual(self.fl2, self.list2) # should be same\n",
    "        \n",
    "    def test_equal(self):\n",
    "        self.assertTrue(self.fl1 == self.fl2)\n",
    "   \n",
    "    def test_plus_obj(self):\n",
    "        self.list1.append(4)\n",
    "        self.fl1 = self.fl1 + 4\n",
    "        self.assertEqual(self.list1, self.fl1)\n",
    "\n",
    "    def test_plus_list(self):\n",
    "        self.list1.append(4)\n",
    "        self.fl1 = self.fl1 + [4]\n",
    "        self.assertEqual(self.list1, self.fl1)\n",
    "        \n",
    "'''command line run\n",
    "if __name__ == '__main__':\n",
    "    unittest.main()\n",
    "'''\n",
    "\n",
    "'''Jupyter run'''\n",
    "suite = unittest.TestLoader().loadTestsFromTestCase(TestFunnyList)\n",
    "unittest.TextTestRunner().run(suite)"
   ]
  },
  {
   "cell_type": "code",
   "execution_count": null,
   "metadata": {},
   "outputs": [],
   "source": [
    "# %load funnylist3.py\n",
    "class FunnyList(list):\n",
    "    def __eq__(self, other):\n",
    "        \"\"\"Check for equality without concern for order.\n",
    "           If the sorted versions of two FunnyLists are the\n",
    "           same, then we deem the FunnyLists to be the same.\"\"\"\n",
    "        return sorted(self) == sorted(other)\n",
    "    \n",
    "    def __add__(self, thing):\n",
    "        \"\"\"Add an item to a FunnyList. We'll create a new list\n",
    "           which is a copy of our current list (self) plus the\n",
    "           item we want to add.\n",
    "        \"\"\"\n",
    "        newlist = self.copy() + [thing]\n",
    "\n",
    "        return FunnyList(newlist)"
   ]
  },
  {
   "cell_type": "code",
   "execution_count": null,
   "metadata": {},
   "outputs": [],
   "source": [
    "from funnylist3 import FunnyList\n",
    "import unittest # Python's unit test module\n",
    "\n",
    "class TestFunnyList(unittest.TestCase):\n",
    "    def setUp(self):\n",
    "        self.list1 = [1, 2, 3] # Python list\n",
    "        self.list2 = [3, 2, 1]\n",
    "        self.fl1 = FunnyList(self.list1)\n",
    "        self.fl2 = FunnyList(self.list2)\n",
    "    \n",
    "    def test_init(self):\n",
    "        self.assertEqual(self.fl1, self.list1) # should be same\n",
    "        self.assertEqual(self.fl2, self.list2) # should be same\n",
    "        \n",
    "    def test_equal(self):\n",
    "        self.assertTrue(self.fl1 == self.fl2)\n",
    "   \n",
    "    def test_plus_obj(self):\n",
    "        self.list1.append(4)\n",
    "        self.fl1 = self.fl1 + 4\n",
    "        self.assertEqual(self.list1, self.fl1)\n",
    "\n",
    "    def test_plus_list(self):\n",
    "        self.list1.append(4)\n",
    "        self.fl1 = self.fl1 + [4]\n",
    "        self.assertEqual(self.list1, self.fl1)\n",
    "        \n",
    "'''command line run\n",
    "if __name__ == '__main__':\n",
    "    unittest.main()\n",
    "'''\n",
    "\n",
    "'''Jupyter run'''\n",
    "suite = unittest.TestLoader().loadTestsFromTestCase(TestFunnyList)\n",
    "unittest.TextTestRunner().run(suite)"
   ]
  },
  {
   "cell_type": "markdown",
   "metadata": {},
   "source": [
    "### For each TDD-style testing, python learners should follow the TDD cycle:\n",
    "\n",
    "- Write a failing test for the next bit of functionality you want to add.\n",
    "\n",
    "- Write the minimal amount of code necessary to make the test pass.\n",
    "\n",
    "- Refactor the code, ensuring that tests still pass after refactoring."
   ]
  }
 ],
 "metadata": {
  "kernelspec": {
   "display_name": "myenv",
   "language": "python",
   "name": "python3"
  },
  "language_info": {
   "codemirror_mode": {
    "name": "ipython",
    "version": 3
   },
   "file_extension": ".py",
   "mimetype": "text/x-python",
   "name": "python",
   "nbconvert_exporter": "python",
   "pygments_lexer": "ipython3",
   "version": "3.11.8"
  }
 },
 "nbformat": 4,
 "nbformat_minor": 2
}
