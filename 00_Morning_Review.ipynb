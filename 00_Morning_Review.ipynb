{
 "cells": [
  {
   "cell_type": "markdown",
   "metadata": {},
   "source": [
    "## A Quick Review ... in Code"
   ]
  },
  {
   "cell_type": "markdown",
   "metadata": {},
   "source": [
    "### **Exercise: Log File Analysis**\n",
    "\n",
    "**Problem Description:**\n",
    "You have a log file from a web server where each line represents a hit to the website. Each line contains the path hit and the status code. Write a function that analyzes the log lines to count the number of hits per path and categorize them by status code.\n",
    "\n",
    "**Test Input:**\n",
    "```\n",
    "log_lines = [\n",
    "    (\"/home\", 200),\n",
    "    (\"/about\", 200),\n",
    "    (\"/home\", 404),\n",
    "    (\"/contact\", 200),\n",
    "    (\"/about\", 404),\n",
    "    (\"/home\", 200),\n",
    "]\n",
    "```\n",
    "\n",
    "**Expected Output**\n",
    "```\n",
    "{\n",
    " '/home': {'200': 2, '404': 1},\n",
    " '/about': {'200': 1, '404': 1},\n",
    " '/contact': {'200': 1}\n",
    "}\n",
    "```\n"
   ]
  },
  {
   "cell_type": "code",
   "execution_count": null,
   "metadata": {},
   "outputs": [],
   "source": [
    "### YOUR CODE HERE\n"
   ]
  },
  {
   "cell_type": "markdown",
   "metadata": {},
   "source": [
    "### **Exercise 2: Inventory Management**\n",
    "\n",
    "**Problem Description:**\n",
    "Your task is to manage an inventory system for a store. Each item in the inventory is recorded as a tuple containing the item name, category, and quantity. Some items may be added or removed over time. Use **`defaultdict`** to keep track of the total quantity of items in each category and list the item names in that category.\n",
    "\n",
    "**Test Input:**\n",
    "\n",
    "```python\n",
    "inventory_actions = [\n",
    "    (\"Add\", \"Laptop\", \"Electronics\", 5),\n",
    "    (\"Add\", \"Tablet\", \"Electronics\", 10),\n",
    "    (\"Remove\", \"Laptop\", \"Electronics\", 2),\n",
    "    (\"Add\", \"Chair\", \"Furniture\", 15),\n",
    "    (\"Add\", \"Desk\", \"Furniture\", 7),\n",
    "    (\"Remove\", \"Chair\", \"Furniture\", 5),\n",
    "]\n",
    "```\n",
    "\n",
    "**Expected Output:**\n",
    "\n",
    "```python\n",
    "{\n",
    " 'Electronics': {'total_quantity': 13, 'items': [\"Laptop\", \"Tablet\"]},\n",
    " 'Furniture': {'total_quantity': 17, 'items': [\"Chair\", \"Desk\"]}\n",
    "}\n",
    "```"
   ]
  },
  {
   "cell_type": "code",
   "execution_count": null,
   "metadata": {},
   "outputs": [],
   "source": [
    "### YOUR CODE HERE\n"
   ]
  },
  {
   "cell_type": "markdown",
   "metadata": {},
   "source": [
    "### Exercise 3\n",
    "You are developing an online learning platform that offers different types of courses. \n",
    "\n",
    "1. Create a base class called `Course` with attributes `title`, `instructor`, and `duration`, and a method called `display_info()` that prints the title, instructor, and duration of the course.\n",
    "2. Create two subclasses, `LiveCourse` and `RecordedCourse`, that inherit from the `Course` class. \n",
    "3. The `LiveCourse` class should have additional attributes `start_date` and `end_date`, representing the start and end dates of the live course. \n",
    "    \n",
    "    Override the `display_info()` method in the `LiveCourse` class to include the start and end dates in the output.\n",
    "    \n",
    "4. The `RecordedCourse` class should have an additional attribute `recorded_date`, representing the date when the course was recorded. \n",
    "    \n",
    "    Override the `display_info()` method in the `RecordedCourse` class to include the `recorded_date`in the output.\n",
    "    \n",
    "5. Test the classes by creating instances of `LiveCourse` and `RecordedCourse`, and calling their respective `display_info()` methods."
   ]
  },
  {
   "cell_type": "markdown",
   "metadata": {},
   "source": [
    "### Example Output:\n",
    "```\n",
    "Title: Intermediate Python Bootcamp\n",
    "Instructor: Manu \n",
    "Duration: 3 days\n",
    "Start Date: 2024-03-06\n",
    "End Date: 2024-03-08\n",
    "----\n",
    "Title: Introduction to Data Science\n",
    "Instructor: Mike Johnson\n",
    "Duration: 6 hours\n",
    "Recorded Date: 2024-07-15\n",
    "```"
   ]
  },
  {
   "cell_type": "code",
   "execution_count": 1,
   "metadata": {},
   "outputs": [
    {
     "name": "stdout",
     "output_type": "stream",
     "text": [
      "Event: Python Workshop\n",
      "Date: 2023-08-15\n",
      "Location: Conference Center\n",
      "Topic: Introduction to Python\n",
      "Speaker: John Doe\n",
      "----\n",
      "Event: Rock Night\n",
      "Date: 2023-09-10\n",
      "Location: Stadium\n",
      "Artist: The Rock Stars\n",
      "Genre: Rock\n"
     ]
    }
   ],
   "source": []
  },
  {
   "cell_type": "markdown",
   "metadata": {},
   "source": [
    "### Event Scheduling Application\n",
    "\n",
    "### Objective\n",
    "\n",
    "Create a comprehensive system to schedule and manage various types of events, offering features to add new events, update existing ones, query events by date or type, and send reminders for upcoming events.\n",
    "\n",
    "### Implementation Plan\n",
    "\n",
    "1. **Define Data Structures**: Use `namedtuple` for representing events and `defaultdict` for organizing events by date and type.\n",
    "2. **Event Addition and Update**: Implement functions to add and update events, including details such as title, date, type, and description.\n",
    "3. **Query Functionality**: Enable searching for events by date range or type, showcasing the use of `filter` and list comprehensions.\n",
    "4. **Reminders**: Use a scheduled task (potentially with `sched` or a simple loop with sleep for a mock-up) to check for and display upcoming event reminders.\n",
    "5. **User Interaction**: Develop an interactive CLI for users to interact with the system, adding and querying events.\n",
    "6. **Best Practices**: Incorporate logging for actions, input validation with decorators, and type hints for function signatures.\n",
    "\n",
    "## TASK:\n",
    "\n",
    "1. Sketch out some pseudocode and a process as to how you would tackle this with some of the advanced data types we have covered so far. You can go into as much detail as possible.\n",
    "\n",
    "2. Leverage Generative AI to see if you can get an initial piece of code that is of \"high quality\" that incorporates your pseudocode and the requirements of the task above. \n",
    "\n",
    "3. Review Generated code and note down your thoughts in the cells below"
   ]
  },
  {
   "cell_type": "code",
   "execution_count": null,
   "metadata": {},
   "outputs": [],
   "source": [
    "### MY CODE\n",
    "\n"
   ]
  },
  {
   "cell_type": "code",
   "execution_count": null,
   "metadata": {},
   "outputs": [],
   "source": [
    "### GENERATED CODE\n"
   ]
  }
 ],
 "metadata": {
  "kernelspec": {
   "display_name": "myenv",
   "language": "python",
   "name": "python3"
  },
  "language_info": {
   "codemirror_mode": {
    "name": "ipython",
    "version": 3
   },
   "file_extension": ".py",
   "mimetype": "text/x-python",
   "name": "python",
   "nbconvert_exporter": "python",
   "pygments_lexer": "ipython3",
   "version": "3.11.8"
  }
 },
 "nbformat": 4,
 "nbformat_minor": 2
}
