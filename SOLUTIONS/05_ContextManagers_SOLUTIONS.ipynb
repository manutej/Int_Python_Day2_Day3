{
 "cells": [
  {
   "cell_type": "markdown",
   "metadata": {},
   "source": [
    "# **Context Managers in Python**\n",
    "\n",
    "#### 💡Context managers are a feature of Python that allows for the setup and teardown of resources automatically. \n",
    "\n",
    "They are often used to manage resources such as \n",
    "- file streams\n",
    "- locks\n",
    "- database connections \n",
    "\n",
    "in a safe, clean, and concise manner.\n",
    "\n",
    "## What is a Context Manager?\n",
    "\n",
    "#### 💡 A context manager in Python is an object designed to be used in a **`with`** statement, which guarantees that resources are properly acquired and released, even if an error occurs during their use.\n",
    "\n",
    "## The **`with`** Statement\n",
    "\n",
    "The **`with`** statement simplifies exception handling by encapsulating common preparation and cleanup tasks in so-called **context managers**.\n",
    "\n",
    "It ensures that the necessary \"setup\" and \"cleanup\" actions are taken, regardless of whether the block of code executed successfully or raised an exception.\n",
    "\n",
    "\n",
    "#### 💡 The **`with`** statement is used to wrap the execution of a block of code. It ensures that predefined cleanup actions are performed after the block is executed, which is useful for resource management tasks like opening and closing files."
   ]
  },
  {
   "cell_type": "markdown",
   "metadata": {},
   "source": [
    "### Working with a Context Manager\n",
    "\n",
    "- **`contextlib.closing`**: This is a helper function that returns a context manager for objects that do not support the context management protocol but have a **`close()`** method."
   ]
  },
  {
   "cell_type": "code",
   "execution_count": null,
   "metadata": {},
   "outputs": [],
   "source": [
    "from contextlib import closing\n",
    "from urllib.request import urlopen\n",
    "\n",
    "url = \"http://www.python.org\"\n",
    "with closing(urlopen(url)) as page:\n",
    "    for line in page:\n",
    "        print(line)"
   ]
  },
  {
   "cell_type": "markdown",
   "metadata": {},
   "source": [
    "- **`__enter__` and `__exit__` Methods**: Custom context managers implement these two methods. The **`__enter__`** method is run at the beginning of the **`with`** block, and **`__exit__`** is run at the end, handling resource cleanup"
   ]
  },
  {
   "cell_type": "code",
   "execution_count": null,
   "metadata": {},
   "outputs": [],
   "source": [
    "class ManagedFile:\n",
    "    def __init__(self, name):\n",
    "        self.name = name\n",
    "\n",
    "    def __enter__(self):\n",
    "        self.file = open(self.name, 'w')\n",
    "        return self.file\n",
    "\n",
    "    def __exit__(self, exc_type, exc_val, exc_tb):\n",
    "        if self.file:\n",
    "            self.file.close()\n",
    "\n",
    "with ManagedFile('hello.txt') as f:\n",
    "    f.write('Hello, world!')"
   ]
  },
  {
   "cell_type": "markdown",
   "metadata": {},
   "source": [
    "### Utilizing **`contextlib.contextmanager`**\n",
    "\n",
    "This is a decorator that allows a simple function with a **`yield`** statement to be used as a context manager, without the need to define a class that implements the **`__enter__`** and **`__exit__`** methods."
   ]
  },
  {
   "cell_type": "code",
   "execution_count": null,
   "metadata": {},
   "outputs": [],
   "source": [
    "from contextlib import contextmanager\n",
    "\n",
    "@contextmanager\n",
    "def managed_file(name):\n",
    "    try:\n",
    "        f = open(name, 'w')\n",
    "        yield f\n",
    "    finally:\n",
    "        f.close()\n",
    "\n",
    "with managed_file('hello.txt') as f:\n",
    "    f.write('Hello, world!')"
   ]
  },
  {
   "cell_type": "markdown",
   "metadata": {},
   "source": [
    "### Custom Context Managers: Classes and Generators\n",
    "\n",
    "- **Classes**: By defining **`__enter__`** and **`__exit__`** methods in a class, you can create a context manager that can execute setup code before the **`with`** block and cleanup code afterward.\n",
    "- **Generators**: Using **`contextlib.contextmanager`**, you can write a generator function that yields control back to the **`with`** block and ensures that cleanup code runs after the block exits.\n",
    "    \n",
    "    ```python\n",
    "\n",
    "    ```\n",
    "    \n",
    "\n",
    "    \n",
    "\n",
    "\n",
    "   "
   ]
  },
  {
   "cell_type": "code",
   "execution_count": null,
   "metadata": {},
   "outputs": [],
   "source": [
    "import os\n",
    "from contextlib import contextmanager\n",
    "\n",
    "@contextmanager\n",
    "def change_dir(destination):\n",
    "    try:\n",
    "        cwd = os.getcwd()\n",
    "        os.chdir(destination)\n",
    "        yield\n",
    "    finally:\n",
    "        os.chdir(cwd)\n",
    "\n",
    "# Use this context manager to temporarily change the working directory."
   ]
  },
  {
   "cell_type": "markdown",
   "metadata": {},
   "source": [
    "### **More Examples**"
   ]
  },
  {
   "cell_type": "code",
   "execution_count": null,
   "metadata": {},
   "outputs": [],
   "source": [
    "class MockDatabase:\n",
    "    def __enter__(self):\n",
    "        print(\"Connecting to the database...\")\n",
    "        return self\n",
    "\n",
    "    def __exit__(self, exc_type, exc_val, exc_tb):\n",
    "        print(\"Disconnecting from the database...\")\n",
    "\n",
    "# Simulate opening and closing a database connection."
   ]
  },
  {
   "cell_type": "code",
   "execution_count": null,
   "metadata": {},
   "outputs": [],
   "source": [
    "@contextmanager\n",
    "def logging_context():\n",
    "    print(\"Entering context\")\n",
    "    yield\n",
    "    print(\"Exiting context\")\n",
    "\n",
    "# Demonstrate entering and exiting a block with logging."
   ]
  },
  {
   "cell_type": "markdown",
   "metadata": {},
   "source": [
    "## Context Manager Exercises"
   ]
  },
  {
   "cell_type": "markdown",
   "metadata": {},
   "source": [
    "### Exercise 1\n",
    "### Context Manager for Timing a List Comprehension\n",
    "\n",
    "Problem: Use a Context Manager from `contextlib` in order to time the runtime of a list comprehension command."
   ]
  },
  {
   "cell_type": "code",
   "execution_count": null,
   "metadata": {},
   "outputs": [],
   "source": [
    "from contextlib import contextmanager\n",
    "import time\n",
    "\n",
    "@contextmanager\n",
    "def timing():\n",
    "    start = time.time()\n",
    "    yield\n",
    "    end = time.time()\n",
    "    print(f\"Time taken: {end - start}s\")\n",
    "\n",
    "with timing():\n",
    "    [x**2 for x in range(1000000)]"
   ]
  },
  {
   "cell_type": "markdown",
   "metadata": {},
   "source": [
    "### Exercise 2\n",
    "### Context Manager for Opening Multiple Files \n",
    "Build a context manager to open multiple files"
   ]
  },
  {
   "cell_type": "code",
   "execution_count": null,
   "metadata": {},
   "outputs": [],
   "source": [
    "from contextlib import contextmanager\n",
    "\n",
    "@contextmanager\n",
    "def open_multiple_files(*files, mode='r'):\n",
    "    opened_files = [open(file, mode) for file in files]\n",
    "    try:\n",
    "        yield opened_files\n",
    "    finally:\n",
    "        for f in opened_files:\n",
    "            f.close()\n",
    "\n",
    "with open_multiple_files('file1.txt', 'file2.txt', mode='w') as files:\n",
    "    files[0].write('Hello')\n",
    "    files[1].write('World')\n"
   ]
  },
  {
   "cell_type": "markdown",
   "metadata": {},
   "source": [
    "### Exercise 3: Context Manager for a Temporary Change in Working Directory"
   ]
  },
  {
   "cell_type": "code",
   "execution_count": null,
   "metadata": {},
   "outputs": [],
   "source": [
    "import os\n",
    "from contextlib import contextmanager\n",
    "\n",
    "@contextmanager\n",
    "def change_directory(destination):\n",
    "    try:\n",
    "        cwd = os.getcwd()\n",
    "        os.chdir(destination)\n",
    "        yield\n",
    "    finally:\n",
    "        os.chdir(cwd)\n",
    "\n",
    "with change_directory(\"/tmp\"):\n",
    "    print(\"Current Working Directory:\", os.getcwd())\n"
   ]
  },
  {
   "cell_type": "markdown",
   "metadata": {},
   "source": [
    "### Exercise 4: Suppressing Specific Exceptions\n",
    "Make a Context Manager to suppress `FileNotFoundError` allowing the code to continue if the file doesn't exist.\n",
    "\n",
    "Import `suppress` from `contextlib` library"
   ]
  },
  {
   "cell_type": "code",
   "execution_count": null,
   "metadata": {},
   "outputs": [],
   "source": [
    "from contextlib import suppress\n",
    "\n",
    "# Suppresses FileNotFoundError, allowing the code to continue if the file doesn't exist.\n",
    "with suppress(FileNotFoundError):\n",
    "    os.remove('non_existent_file.txt')\n",
    "print(\"Continuing execution.\")\n"
   ]
  },
  {
   "cell_type": "markdown",
   "metadata": {},
   "source": [
    "## Advanced Exercises"
   ]
  },
  {
   "cell_type": "markdown",
   "metadata": {},
   "source": [
    "### Exercise 5: Resource Pool\n",
    "Implement a context manager for managing resources from a pool."
   ]
  },
  {
   "cell_type": "code",
   "execution_count": null,
   "metadata": {},
   "outputs": [],
   "source": [
    "# Implement a context manager for managing resources from a pool.\n",
    "\n",
    "from contextlib import contextmanager\n",
    "import queue\n",
    "\n",
    "class Pool:\n",
    "    def __init__(self, resources):\n",
    "        self.available_resources = queue.Queue()\n",
    "        for resource in resources:\n",
    "            self.available_resources.put(resource)\n",
    "\n",
    "    @contextmanager\n",
    "    def get_resource(self):\n",
    "        resource = self.available_resources.get()\n",
    "        try:\n",
    "            yield resource\n",
    "        finally:\n",
    "            self.available_resources.put(resource)\n",
    "\n",
    "# Example usage\n",
    "pool = Pool([\"resource1\", \"resource2\", \"resource3\"])\n",
    "with pool.get_resource() as res:\n",
    "    print(f\"Using {res}\")\n"
   ]
  },
  {
   "cell_type": "markdown",
   "metadata": {},
   "source": [
    "### Exercise 6: Timer Context Manager\n",
    "Create a context manager that measures the execution time of a code block.\n",
    "\n"
   ]
  },
  {
   "cell_type": "code",
   "execution_count": null,
   "metadata": {},
   "outputs": [],
   "source": [
    "# Create a context manager that measures the execution time of a code block.\n",
    "\n",
    "from contextlib import contextmanager\n",
    "import time\n",
    "\n",
    "@contextmanager\n",
    "def timer():\n",
    "    start = time.time()\n",
    "    yield\n",
    "    end = time.time()\n",
    "    print(f\"Elapsed time: {end - start} seconds\")\n",
    "\n",
    "# Example usage\n",
    "with timer():\n",
    "    sum(range(1000000))\n"
   ]
  },
  {
   "cell_type": "markdown",
   "metadata": {},
   "source": [
    "### Exercise 7: Context Manager for Locking\n",
    "Develop a context manager that acquires and releases a lock.\n"
   ]
  },
  {
   "cell_type": "code",
   "execution_count": null,
   "metadata": {},
   "outputs": [],
   "source": [
    "# Develop a context manager that acquires and releases a lock.\n",
    "\n",
    "from threading import Lock\n",
    "from contextlib import contextmanager\n",
    "\n",
    "lock = Lock()\n",
    "\n",
    "@contextmanager\n",
    "def acquire_lock(l):\n",
    "    l.acquire()\n",
    "    try:\n",
    "        yield\n",
    "    finally:\n",
    "        l.release()\n",
    "\n",
    "# Example usage\n",
    "with acquire_lock(lock):\n",
    "    # perform thread-safe operations\n",
    "    print(\"Lock acquired\")\n"
   ]
  },
  {
   "cell_type": "markdown",
   "metadata": {},
   "source": [
    "### Exercise 8 Redirecting Standard Output\n",
    "Write a context manager that temporarily redirects `sys.stdout`.\n"
   ]
  },
  {
   "cell_type": "code",
   "execution_count": null,
   "metadata": {},
   "outputs": [],
   "source": [
    "# Write a context manager that temporarily redirects `sys.stdout`.\n",
    "\n",
    "from contextlib import contextmanager\n",
    "import sys\n",
    "\n",
    "@contextmanager\n",
    "def redirect_stdout(new_target):\n",
    "    old_target = sys.stdout\n",
    "    sys.stdout = new_target\n",
    "    try:\n",
    "        yield new_target\n",
    "    finally:\n",
    "        sys.stdout = old_target\n",
    "\n",
    "# Example usage\n",
    "with open('log.txt', 'w') as f, redirect_stdout(f):\n",
    "    print(\"This will go to 'log.txt'\")\n"
   ]
  },
  {
   "cell_type": "markdown",
   "metadata": {},
   "source": [
    "### Exercise 9: Atomic File Write\n",
    "Design a context manager that ensures atomic write operations to a file.\n"
   ]
  },
  {
   "cell_type": "code",
   "execution_count": null,
   "metadata": {},
   "outputs": [],
   "source": [
    "# Design a context manager that ensures atomic write operations to a file.\n",
    "from contextlib import contextmanager\n",
    "import os\n",
    "\n",
    "@contextmanager\n",
    "def atomic_write(file_name, mode='w'):\n",
    "    temp_file = file_name + '.tmp'\n",
    "    try:\n",
    "        with open(temp_file, mode) as f:\n",
    "            yield f\n",
    "        os.replace(temp_file, file_name)\n",
    "    except:\n",
    "        os.remove(temp_file)\n",
    "        raise\n",
    "\n",
    "# Example usage\n",
    "with atomic_write('data.txt') as f:\n",
    "    f.write(\"Safe writing\")\n"
   ]
  },
  {
   "cell_type": "markdown",
   "metadata": {},
   "source": [
    "### Exercise 10: Context Manager for Database Transaction\n",
    "Write a class `Database` that contains `connect()`, `disconnect()`, `start_transaction`, `end_transaction` methods \n",
    "\n",
    "Use `contextlib` from `contextmanager` to manage database transaction\n"
   ]
  },
  {
   "cell_type": "code",
   "execution_count": 1,
   "metadata": {},
   "outputs": [
    {
     "name": "stdout",
     "output_type": "stream",
     "text": [
      "Transaction started\n",
      "Performing transaction...\n",
      "Transaction ended\n"
     ]
    }
   ],
   "source": [
    "class Database:\n",
    "    def __init__(self):\n",
    "        self.connected = False\n",
    "        self.transaction_started = False\n",
    "\n",
    "    def connect(self):\n",
    "        self.connected = True\n",
    "\n",
    "    def disconnect(self):\n",
    "        self.connected = False\n",
    "\n",
    "    def start_transaction(self):\n",
    "        if self.connected:\n",
    "            self.transaction_started = True\n",
    "            print(\"Transaction started\")\n",
    "\n",
    "    def end_transaction(self):\n",
    "        if self.transaction_started:\n",
    "            print(\"Transaction ended\")\n",
    "            self.transaction_started = False\n",
    "\n",
    "from contextlib import contextmanager\n",
    "\n",
    "@contextmanager\n",
    "def database_transaction(db):\n",
    "    db.connect()\n",
    "    db.start_transaction()\n",
    "    try:\n",
    "        yield\n",
    "    finally:\n",
    "        db.end_transaction()\n",
    "        db.disconnect()\n",
    "\n",
    "db = Database()\n",
    "with database_transaction(db):\n",
    "    print(\"Performing transaction...\")\n"
   ]
  }
 ],
 "metadata": {
  "kernelspec": {
   "display_name": "myenv",
   "language": "python",
   "name": "python3"
  },
  "language_info": {
   "codemirror_mode": {
    "name": "ipython",
    "version": 3
   },
   "file_extension": ".py",
   "mimetype": "text/x-python",
   "name": "python",
   "nbconvert_exporter": "python",
   "pygments_lexer": "ipython3",
   "version": "3.11.8"
  }
 },
 "nbformat": 4,
 "nbformat_minor": 2
}
