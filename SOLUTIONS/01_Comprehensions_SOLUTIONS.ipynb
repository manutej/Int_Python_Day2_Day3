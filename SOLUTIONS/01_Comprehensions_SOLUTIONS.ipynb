{
 "cells": [
  {
   "cell_type": "markdown",
   "metadata": {},
   "source": [
    "# Comprehensions\n",
    "\n",
    "Python comprehensions offer a concise and readable way to construct new sequences (lists, sets, dictionaries) or iterators (generator expressions). Understanding the nuances of each type of comprehension allows for writing more efficient and cleaner code. Here's a detailed look at each type and their practical applications.\n",
    "\n",
    "## List Comprehensions\n",
    "\n",
    "**Syntax**: **`[expression for item in iterable if condition]`**\n",
    "\n",
    "- **Objective**: Learn how to create concise, readable lists in a single line of code.\n",
    "- List comprehensions provide a more syntactically elegant way to create lists from existing iterables. \n",
    "\n",
    "By embedding the logic for filtering and transformation directly into the definition of a new list, \n",
    "\n",
    "they eliminate the need for more verbose constructs, such as loops with conditional blocks.\n",
    "\n",
    "\n",
    "- **Example**: **`[x**2 for x in range(10)]`** to generate the squares of numbers 0 through 9.\n",
    "\n",
    "\n",
    "**Useful Contexts**:\n",
    "\n",
    "- **Data Filtering**: Extracting subsets of data that meet certain criteria.\n",
    "- **Transformation**: Applying a function to each element in an iterable.\n",
    "- **Flattening**: Turning a list of lists into a single list.\n",
    "- **Performance**: Often faster than equivalent **`for`** loop constructs due to being optimized for list construction.\n"
   ]
  },
  {
   "cell_type": "markdown",
   "metadata": {},
   "source": [
    "### Square Numbers\n",
    "Create a list of squares for the numbers from 1 to 10."
   ]
  },
  {
   "cell_type": "code",
   "execution_count": 24,
   "metadata": {},
   "outputs": [],
   "source": [
    "squares = [x**2 for x in range(1, 11)]"
   ]
  },
  {
   "cell_type": "markdown",
   "metadata": {},
   "source": [
    "### Even Numbers: \n",
    "Generate a list of even numbers between 1 and 20."
   ]
  },
  {
   "cell_type": "code",
   "execution_count": 25,
   "metadata": {},
   "outputs": [],
   "source": [
    "evens = [x for x in range(1, 21) if x % 2 == 0]"
   ]
  },
  {
   "cell_type": "markdown",
   "metadata": {},
   "source": [
    "### Capitalize Words\n",
    "Given a list of words, create a new list with each word capitalized."
   ]
  },
  {
   "cell_type": "code",
   "execution_count": 26,
   "metadata": {},
   "outputs": [],
   "source": [
    "words = [\"hello\", \"world\", \"python\"]\n",
    "capitalized = [word.capitalize() for word in words]\n"
   ]
  },
  {
   "cell_type": "markdown",
   "metadata": {},
   "source": [
    "### Filter Length\n",
    "Create a list of words from a given list that have more than 4 characters."
   ]
  },
  {
   "cell_type": "code",
   "execution_count": 27,
   "metadata": {},
   "outputs": [],
   "source": [
    "words = [\"hello\", \"world\", \"python\"]\n",
    "long_words = [word for word in words if len(word) > 4]"
   ]
  },
  {
   "cell_type": "markdown",
   "metadata": {},
   "source": [
    "### Nested List Flatten\n",
    "Given a nested list, flatten it into a single list."
   ]
  },
  {
   "cell_type": "code",
   "execution_count": 28,
   "metadata": {},
   "outputs": [],
   "source": [
    "nested_list = [[1, 2, 3], [4, 5], [6, 7]]\n",
    "flattened = [item for sublist in nested_list for item in sublist]"
   ]
  },
  {
   "cell_type": "markdown",
   "metadata": {},
   "source": [
    "### Filtering and Transforming Strings:\n"
   ]
  },
  {
   "cell_type": "code",
   "execution_count": 29,
   "metadata": {},
   "outputs": [
    {
     "name": "stdout",
     "output_type": "stream",
     "text": [
      "['e', 'o', 'o']\n",
      "['H', 'E', 'L', 'L', 'O', 'W', 'O', 'R', 'L', 'D']\n"
     ]
    }
   ],
   "source": [
    "# Extract all vowels from a string\n",
    "vowels = [char for char in \"Hello, World!\" if char.lower() in \"aeiou\"]\n",
    "print(vowels)  # Output: ['e', 'o', 'o']\n",
    "\n",
    "# Convert a string to uppercase and remove non-alphabetic characters\n",
    "cleaned_string = [char.upper() for char in \"Hello, 123 World!\" if char.isalpha()]\n",
    "print(cleaned_string)  # Output: ['H', 'E', 'L', 'L', 'O', 'W', 'O', 'R', 'L', 'D']"
   ]
  },
  {
   "cell_type": "markdown",
   "metadata": {},
   "source": [
    "### Chaining Comprehensions"
   ]
  },
  {
   "cell_type": "code",
   "execution_count": 30,
   "metadata": {},
   "outputs": [],
   "source": [
    "# Old way\n",
    "numbers = [1, 2, 3, 4, 5]\n",
    "squared_numbers = []\n",
    "for num in numbers:\n",
    "    squared_numbers.append(num ** 2)\n",
    "even_squares = []\n",
    "for num in squared_numbers:\n",
    "    if num % 2 == 0:\n",
    "        even_squares.append(num)\n"
   ]
  },
  {
   "cell_type": "code",
   "execution_count": 31,
   "metadata": {},
   "outputs": [
    {
     "name": "stdout",
     "output_type": "stream",
     "text": [
      "[4, 16]\n"
     ]
    }
   ],
   "source": [
    "# Chaining comprehensions\n",
    "numbers = [1, 2, 3, 4, 5]\n",
    "squares = [num ** 2 for num in numbers]\n",
    "even_squares = [num for num in squares if num % 2 == 0]\n",
    "print(even_squares)  # Output: [4, 16]"
   ]
  },
  {
   "cell_type": "markdown",
   "metadata": {},
   "source": [
    "## List Comprehension Exercises "
   ]
  },
  {
   "cell_type": "code",
   "execution_count": 32,
   "metadata": {},
   "outputs": [
    {
     "name": "stdout",
     "output_type": "stream",
     "text": [
      "khoor zruog\n"
     ]
    }
   ],
   "source": [
    "def caesar_cipher(message, shift):\n",
    "    alphabet = 'abcdefghijklmnopqrstuvwxyz'\n",
    "    shifted_alphabet = alphabet[shift:] + alphabet[:shift]\n",
    "    cipher_dict = {original: shifted for original, shifted in zip(alphabet, shifted_alphabet)}\n",
    "    \n",
    "    encrypted_message = ''.join([cipher_dict.get(char, char) for char in message])\n",
    "    return encrypted_message\n",
    "\n",
    "message = \"hello world\"\n",
    "shift = 3\n",
    "print(caesar_cipher(message, shift))\n"
   ]
  },
  {
   "cell_type": "markdown",
   "metadata": {},
   "source": [
    "## Dictionary Comprehensions"
   ]
  },
  {
   "cell_type": "markdown",
   "metadata": {},
   "source": [
    "**Syntax**: **`{key_expression: value_expression for item in iterable if condition}`**\n",
    "\n",
    "- **Objective**: Understand how to succinctly create dictionaries\n",
    "\n",
    "- **Concepts**: Syntax, when to use, iterating over keys and values.\n",
    "\n",
    "- **Example**: **`{k: v for k, v in zip(['a', 'b', 'c'], range(3))}`** \n",
    "                to create a dictionary from two lists.\n",
    "\n",
    "Similar to list comprehensions, dictionary comprehensions allow for the direct creation of dictionaries. They are particularly useful when you need to transform and filter data into key-value pairs.\n",
    "\n",
    "Example: \n",
    "```python\n",
    "{idx: val for idx, val in enumerate(['apple', 'banana', 'cherry'])}\n",
    "``` \n",
    "assigns each fruit a unique index as its key.\n",
    "\n",
    "**Useful Contexts**\n",
    "\n",
    "\n",
    "- **Mapping Operations**: Creating mappings from one set of values to another.\n",
    "\n",
    "- **Grouping Data**: Categorizing and storing data in a structured format.\n",
    "\n",
    "- **Performance and Readability**: Like list comprehensions, they offer a performance benefit and improved readability over traditional loops.\n",
    "\n"
   ]
  },
  {
   "cell_type": "markdown",
   "metadata": {},
   "source": [
    "### Square Numbers Map\n",
    "Create a dictionary where keys are numbers from 1 to 5 and values are their squares."
   ]
  },
  {
   "cell_type": "code",
   "execution_count": 33,
   "metadata": {},
   "outputs": [],
   "source": [
    "square_dict = {x: x**2 for x in range(1, 6)}"
   ]
  },
  {
   "cell_type": "markdown",
   "metadata": {},
   "source": [
    "### Invert Dictionary: \n",
    "Given a dictionary, invert its keys and values."
   ]
  },
  {
   "cell_type": "code",
   "execution_count": 34,
   "metadata": {},
   "outputs": [],
   "source": [
    "my_dict = {'a': 1, 'b': 2, 'c': 3}\n",
    "inverted_dict = {value: key for key, value in my_dict.items()}"
   ]
  },
  {
   "cell_type": "markdown",
   "metadata": {},
   "source": [
    "### Word Length\n",
    "Create a dictionary with words as keys and their lengths as values."
   ]
  },
  {
   "cell_type": "code",
   "execution_count": 35,
   "metadata": {},
   "outputs": [
    {
     "data": {
      "text/plain": [
       "{'Hello': 5,\n",
       " 'there,': 6,\n",
       " 'I': 1,\n",
       " 'am': 2,\n",
       " 'a': 1,\n",
       " 'dictionary': 10,\n",
       " 'comprehension': 13}"
      ]
     },
     "execution_count": 35,
     "metadata": {},
     "output_type": "execute_result"
    }
   ],
   "source": [
    "text = 'Hello there, I am a dictionary comprehension'\n",
    "words = text.split()\n",
    "word_lengths = {word: len(word) for word in words}\n",
    "word_lengths"
   ]
  },
  {
   "cell_type": "markdown",
   "metadata": {},
   "source": [
    "### Filter Dict\n",
    "From a given dictionary, create a new one with only pairs where the value is greater than 2."
   ]
  },
  {
   "cell_type": "code",
   "execution_count": 36,
   "metadata": {},
   "outputs": [],
   "source": [
    "filtered_dict = {key: value for key, value in my_dict.items() if value > 2}"
   ]
  },
  {
   "cell_type": "markdown",
   "metadata": {},
   "source": [
    "### Create a Dictionary from Two Lists \n",
    "Given two lists, create a dictionary where elements from the first list are keys and elements from the second list are values."
   ]
  },
  {
   "cell_type": "code",
   "execution_count": 37,
   "metadata": {},
   "outputs": [],
   "source": [
    "keys = ['a', 'b', 'c']\n",
    "values = [1, 2, 3]\n",
    "combined_dict = {k: v for k, v in zip(keys, values)}"
   ]
  },
  {
   "cell_type": "markdown",
   "metadata": {},
   "source": [
    "## Dictionary Comprehension Exercises"
   ]
  },
  {
   "cell_type": "markdown",
   "metadata": {},
   "source": [
    "### Exercise 1\n",
    "Given a list of words, \n",
    "`words = ['apple', 'banana', 'cherry', 'date', 'elderberry']`, \n",
    "create a dictionary where the keys are the words and values are the lengths of the corresponding word."
   ]
  },
  {
   "cell_type": "code",
   "execution_count": 38,
   "metadata": {},
   "outputs": [
    {
     "name": "stdout",
     "output_type": "stream",
     "text": [
      "{'apple': 5, 'banana': 6, 'cherry': 6, 'date': 4, 'elderberry': 10}\n"
     ]
    }
   ],
   "source": [
    "words = ['apple', 'banana', 'cherry', 'date', 'elderberry']\n",
    "### YOUR CODE HERE\n",
    "\n",
    "word_lengths = {word: len(word) for word in words}\n",
    "print(word_lengths)"
   ]
  },
  {
   "cell_type": "markdown",
   "metadata": {},
   "source": [
    "### Exercise 2\n",
    "\n",
    "Given a dictionary, `marks = {'John': 85, 'Emily': 92, 'Arthur': 78, 'Martin': 72}`, create a dictionary comprehension to filter out students who scored above 80.\n"
   ]
  },
  {
   "cell_type": "code",
   "execution_count": 39,
   "metadata": {},
   "outputs": [
    {
     "name": "stdout",
     "output_type": "stream",
     "text": [
      "{'John': 85, 'Emily': 92}\n"
     ]
    }
   ],
   "source": [
    "marks = {'John': 85, 'Emily': 92, 'Arthur': 78, 'Martin': 72}\n",
    "\n",
    "### YOUR CODE HERE\n",
    "high_scores = {student: score for student, score in marks.items() if score > 80}\n",
    "print(high_scores)\n"
   ]
  },
  {
   "cell_type": "markdown",
   "metadata": {},
   "source": [
    "### Exercise 3\n",
    "Given a list, fruits = ['apple', 'banana', 'cherry', 'date', 'elderberry'], create a dictionary where the keys are the fruits and the values are the reversed fruit string."
   ]
  },
  {
   "cell_type": "code",
   "execution_count": 41,
   "metadata": {},
   "outputs": [
    {
     "name": "stdout",
     "output_type": "stream",
     "text": [
      "{'apple': 'elppa', 'banana': 'ananab', 'cherry': 'yrrehc', 'date': 'etad', 'elderberry': 'yrrebredle'}\n"
     ]
    }
   ],
   "source": [
    "fruits = ['apple', 'banana', 'cherry', 'date', 'elderberry']\n",
    "### YOUR CODE HERE\n",
    "reversed_fruits = {fruit: fruit[::-1] for fruit in fruits}\n",
    "print(reversed_fruits)"
   ]
  },
  {
   "cell_type": "markdown",
   "metadata": {},
   "source": [
    "### Exercise 4\n",
    "Given a list of numbers, `numbers = [1, 2, 3, 4, 5, 6, 7, 8, 9, 10]`, create a dictionary where the key is the number and the value is True if the number is even, False if the number is odd."
   ]
  },
  {
   "cell_type": "code",
   "execution_count": 42,
   "metadata": {},
   "outputs": [
    {
     "name": "stdout",
     "output_type": "stream",
     "text": [
      "{1: False, 2: True, 3: False, 4: True, 5: False, 6: True, 7: False, 8: True, 9: False, 10: True}\n"
     ]
    }
   ],
   "source": [
    "numbers = [1, 2, 3, 4, 5, 6, 7, 8, 9, 10]\n",
    "### YOUR CODE HERE\n",
    "\n",
    "even_odd = {number: (number % 2 == 0) for number in numbers}\n",
    "print(even_odd)\n"
   ]
  },
  {
   "cell_type": "markdown",
   "metadata": {},
   "source": [
    "### Exercise 5\n",
    "iven a dictionary of people and their ages, people = {'John': 25, 'Emily': 22, 'Arthur': 27, 'Martin': 19}, use a dictionary comprehension to create a new dictionary of those aged 25 and above.\n"
   ]
  },
  {
   "cell_type": "code",
   "execution_count": 43,
   "metadata": {},
   "outputs": [
    {
     "name": "stdout",
     "output_type": "stream",
     "text": [
      "{'John': 25, 'Arthur': 27}\n"
     ]
    }
   ],
   "source": [
    "people = {'John': 25, 'Emily': 22, 'Arthur': 27, 'Martin': 19}\n",
    "\n",
    "### YOUR CODE HERE\n",
    "aged_25_and_above = {name: age for name, age in people.items() if age >= 25}\n",
    "print(aged_25_and_above)\n"
   ]
  },
  {
   "cell_type": "markdown",
   "metadata": {},
   "source": [
    "### Exercise 6\n",
    "Given a list of words, \n",
    "`words = ['Apple', 'banana', 'Cherry', 'date', 'Elderberry']`\n",
    " generate a dictionary where keys are words which start with a capital letter and the value is the length of the word."
   ]
  },
  {
   "cell_type": "code",
   "execution_count": 44,
   "metadata": {},
   "outputs": [
    {
     "name": "stdout",
     "output_type": "stream",
     "text": [
      "{'Apple': 5, 'Cherry': 6, 'Elderberry': 10}\n"
     ]
    }
   ],
   "source": [
    "words = ['Apple', 'banana', 'Cherry', 'date', 'Elderberry']\n",
    "### YOUR CODE HERE\n",
    "capitalized_words = {word: len(word) for word in words if word[0].isupper()}\n",
    "print(capitalized_words)\n"
   ]
  },
  {
   "cell_type": "markdown",
   "metadata": {},
   "source": [
    "### Exercise 7\n",
    "Given a list of produce items along with a list containing the amount of inventory, create a dictionary that contains the amount in inventory for each key of the produce name:"
   ]
  },
  {
   "cell_type": "code",
   "execution_count": 45,
   "metadata": {},
   "outputs": [
    {
     "name": "stdout",
     "output_type": "stream",
     "text": [
      "{'bananas': 10, 'apples': 20, 'oranges': 21, 'kiwi': 13}\n"
     ]
    }
   ],
   "source": [
    "produce = ['bananas','apples','oranges','kiwi']\n",
    "stock = [10,20,21,13]\n",
    "\n",
    "### YOUR CODE HERE\n",
    "inventory = {produce[i]: stock[i] for i in range(len(produce))}\n",
    "print(inventory)"
   ]
  },
  {
   "cell_type": "markdown",
   "metadata": {},
   "source": [
    "### Exercise 8: Emoji Translator"
   ]
  },
  {
   "cell_type": "code",
   "execution_count": 46,
   "metadata": {},
   "outputs": [
    {
     "name": "stdout",
     "output_type": "stream",
     "text": [
      "{'happy': '😊', 'sad': '😢', 'excited': '😃', 'angry': '😠', 'surprised': '😮'}\n"
     ]
    }
   ],
   "source": [
    "words = [\"happy\", \"sad\", \"excited\", \"angry\", \"surprised\"]\n",
    "emojis = [\"😊\", \"😢\", \"😃\", \"😠\", \"😮\"]\n",
    "\n",
    "### YOUR CODE HERE\n",
    "emoji_translator = {words[i]: emojis[i] for i in range(len(words))}\n",
    "print(emoji_translator)"
   ]
  },
  {
   "cell_type": "markdown",
   "metadata": {},
   "source": [
    "## Set Comprehensions\n",
    "\n",
    "**Syntax**: **`{expression for item in iterable if condition}`**\n",
    "\n",
    "Set comprehensions are used to create sets, which are collections of unique elements. They are particularly useful for generating sets from iterables where duplicate elements are possible but not desired.\n",
    "\n",
    "- **Objective**: Learn to use set comprehensions for unique collection creation.\n",
    "\n",
    "- **Concepts**: Syntax, differences from list comprehensions.\n",
    "\n",
    "- **Example**: **`{x for x in 'abracadabra' if x not in 'abc'}`** to create a set of unique letters.\n",
    "\n",
    "\n",
    "💡 **Useful Contexts**:\n",
    "\n",
    "- **Removing Duplicates**: Generating a collection of unique items from a list with possible repetitions.\n",
    "\n",
    "- **Set Operations**: Preparing data for set operations like unions, intersections, and differences.\n",
    "\n",
    "- **Data Analysis**: Quickly gathering unique elements from data for analysis.\n",
    "\n",
    "Example: \n",
    "```python \n",
    "{x for x in 'Mississippi' if x in 'aeiou'}\n",
    "```\n",
    "creates a set of unique vowels found in the word \"Mississippi\"."
   ]
  },
  {
   "cell_type": "markdown",
   "metadata": {},
   "source": [
    "## Set Exercises"
   ]
  },
  {
   "cell_type": "markdown",
   "metadata": {},
   "source": [
    "### Exercise 1\n",
    "Unique Squares: Generate a set of squares from 1 to 10."
   ]
  },
  {
   "cell_type": "code",
   "execution_count": 47,
   "metadata": {},
   "outputs": [],
   "source": [
    "## YOUR CODE HERE\n",
    "square_set = {x**2 for x in range(1, 11)}"
   ]
  },
  {
   "cell_type": "markdown",
   "metadata": {},
   "source": [
    "### Exercise 2\n",
    "Character Uniqueness: From a given sentence, create a set of unique characters ignoring spaces."
   ]
  },
  {
   "cell_type": "code",
   "execution_count": 48,
   "metadata": {},
   "outputs": [],
   "source": [
    "sentence = \"Look over here, I'm a set comprehension\"\n",
    "### YOUR CODE HERE\n",
    "unique_chars = {char for char in sentence if char != \" \"}"
   ]
  },
  {
   "cell_type": "markdown",
   "metadata": {},
   "source": [
    "### Exercise 3\n",
    "Set from List: Given a list with duplicate elements, create a set containing only the unique elements."
   ]
  },
  {
   "cell_type": "code",
   "execution_count": 49,
   "metadata": {},
   "outputs": [],
   "source": [
    "my_list = [1, 2, 2, 3, 4, 4, 5]\n",
    "### YOUR CODE HERE\n",
    "unique_elements = {element for element in my_list}"
   ]
  },
  {
   "cell_type": "markdown",
   "metadata": {},
   "source": [
    "### Exercise 4\n",
    "Word Uniqueness: From a list of words, create a set containing only the words with more than 4 letters."
   ]
  },
  {
   "cell_type": "code",
   "execution_count": 50,
   "metadata": {},
   "outputs": [],
   "source": [
    "unique_long_words = {word for word in words if len(word) > 4}"
   ]
  },
  {
   "cell_type": "markdown",
   "metadata": {},
   "source": [
    "### Exercise 5: Unique Characters Across Multiple Strings\n",
    "Problem Statement: Given a list of strings, use a set comprehension to find all unique characters present in any of the strings (ignore spaces)."
   ]
  },
  {
   "cell_type": "code",
   "execution_count": 51,
   "metadata": {},
   "outputs": [
    {
     "name": "stdout",
     "output_type": "stream",
     "text": [
      "{'i', 'g', 'o', 'w', 'n', 's', 'y', 'p', 'h', 'd', 'r', 't', 'c', 'a', 'l', 'm', 'e'}\n"
     ]
    }
   ],
   "source": [
    "strings = [\"hello world\", \"python programming\", \"set comprehension\"]\n",
    "### YOUR CODE HERE\n",
    "unique_chars = {char for string in strings for char in string if char != ' '}\n",
    "print(unique_chars)\n"
   ]
  },
  {
   "cell_type": "markdown",
   "metadata": {},
   "source": [
    "### Exercise 6: Words without Vowels\n",
    "Given a list of words, use a set comprehension to create a set of those same words but with all vowels removed.\n",
    "\n",
    "**Expected Output**\n",
    "\n",
    "```\n",
    "{'hll', 'wrld', 'pythn', 'prgrmmng'}\n",
    "```"
   ]
  },
  {
   "cell_type": "code",
   "execution_count": 52,
   "metadata": {},
   "outputs": [
    {
     "name": "stdout",
     "output_type": "stream",
     "text": [
      "{'pythn', 'hll', 'prgrmmng', 'wrld'}\n"
     ]
    }
   ],
   "source": [
    "words = [\"hello\", \"world\", \"python\", \"programming\"]\n",
    "### YOUR CODE HERE\n",
    "vowels = {'a', 'e', 'i', 'o', 'u'}\n",
    "words_without_vowels = {\"\".join(char for char in word if char not in vowels) for word in words}\n",
    "print(words_without_vowels)\n"
   ]
  },
  {
   "cell_type": "markdown",
   "metadata": {},
   "source": [
    "## Generator Expressions\n",
    "\n",
    "**Syntax**: **`(expression for item in iterable if condition)`**\n",
    "\n",
    "Generator expressions are similar to list comprehensions but produce a generator object. Generators are iterators that **lazily** evaluate the next value when needed, making them more memory-efficient for large datasets.\n",
    "\n",
    "- **Objective**: Master the creation of generator expressions for efficient looping.\n",
    "\n",
    "- **Concepts**: Syntax, memory efficiency, use cases.\n",
    "\n",
    "- **Example**: **`(x**2 for x in range(10))`** to generate squares lazily.\n",
    "\n",
    "\n",
    "💡 **Useful Contexts**:\n",
    "\n",
    "- **Large Datasets**: When working with large datasets where memory efficiency is a concern.\n",
    "- **Streaming Data**: Can be used to process streaming data or files that are too large to fit into memory.\n",
    "- **Composable Operations**: They can be easily combined with functions like **`sum()`**, **`max()`**, and **`min()`** without generating intermediate collections.\n",
    "\n",
    "Example: \n",
    "\n",
    "```python\n",
    "(x**2 for x in range(10**6)) \n",
    "```\n",
    "creates a generator for the squares of numbers up to 1,000,000 without storing them all in memory at once. "
   ]
  },
  {
   "cell_type": "code",
   "execution_count": 53,
   "metadata": {},
   "outputs": [],
   "source": [
    "quarter_totals = [[1200,1300,2402,2031],[1893,3011,1083,1031],[1101,1389,1031,1301]]\n",
    "annual_totals = list(sum(total) for total in quarter_totals)\n",
    "\n"
   ]
  },
  {
   "cell_type": "code",
   "execution_count": 54,
   "metadata": {},
   "outputs": [
    {
     "data": {
      "text/plain": [
       "18773"
      ]
     },
     "execution_count": 54,
     "metadata": {},
     "output_type": "execute_result"
    }
   ],
   "source": [
    "#Total revenue over last 3 years\n",
    "sum(sum(total) for total in quarter_totals)"
   ]
  },
  {
   "cell_type": "code",
   "execution_count": 55,
   "metadata": {},
   "outputs": [
    {
     "data": {
      "text/plain": [
       "6257.666666666667"
      ]
     },
     "execution_count": 55,
     "metadata": {},
     "output_type": "execute_result"
    }
   ],
   "source": [
    "# Average revenue per year last 3 years\n",
    "sum(sum(total) for total in quarter_totals)/len(quarter_totals)"
   ]
  },
  {
   "cell_type": "markdown",
   "metadata": {},
   "source": [
    "## Generator Expression Exercises"
   ]
  },
  {
   "cell_type": "markdown",
   "metadata": {},
   "source": [
    "### Exercise 1\n",
    "\n",
    "Sum of Squares\n",
    "Use a generator expression to calculate the sum of squares from 1 to 10."
   ]
  },
  {
   "cell_type": "markdown",
   "metadata": {},
   "source": [
    "sum_of_squares = sum(x**2 for x in range(1, 11))"
   ]
  },
  {
   "cell_type": "markdown",
   "metadata": {},
   "source": [
    "### Exercise 2 \n",
    "Unique Letters in Sentence: Use a generator expression to count the number of unique letters in a sentence."
   ]
  },
  {
   "cell_type": "code",
   "execution_count": 56,
   "metadata": {},
   "outputs": [],
   "source": [
    "sentence = \"Calculate unique letters\"\n",
    "unique_letters = len(set(char for char in sentence if char.isalpha()))"
   ]
  },
  {
   "cell_type": "markdown",
   "metadata": {},
   "source": [
    "### Exercise 3\n",
    "Convert Celsius to Fahrenheit: Given a list of temperatures in Celsius, use a generator expression to convert them to Fahrenheit.\n"
   ]
  },
  {
   "cell_type": "code",
   "execution_count": 57,
   "metadata": {},
   "outputs": [
    {
     "name": "stdout",
     "output_type": "stream",
     "text": [
      "[32.0, 50.0, 68.0, 86.0, 104.0, 122.0]\n"
     ]
    }
   ],
   "source": [
    "celsius = [0, 10, 20, 30, 40, 50]\n",
    "fahrenheit = ((9/5) * temp + 32 for temp in celsius)\n",
    "print(list(fahrenheit))"
   ]
  }
 ],
 "metadata": {
  "kernelspec": {
   "display_name": "myenv",
   "language": "python",
   "name": "python3"
  },
  "language_info": {
   "codemirror_mode": {
    "name": "ipython",
    "version": 3
   },
   "file_extension": ".py",
   "mimetype": "text/x-python",
   "name": "python",
   "nbconvert_exporter": "python",
   "pygments_lexer": "ipython3",
   "version": "3.11.8"
  }
 },
 "nbformat": 4,
 "nbformat_minor": 2
}
