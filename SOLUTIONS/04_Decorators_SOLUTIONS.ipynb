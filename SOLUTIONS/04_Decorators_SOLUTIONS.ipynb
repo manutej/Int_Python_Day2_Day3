{
 "cells": [
  {
   "cell_type": "markdown",
   "metadata": {},
   "source": [
    "# Decorators\n",
    "\n",
    "### - *Decorators*: Decorators allow us to wrap another function in order to extend the behavior of the wrapped function, without permanently modifying it. \n",
    "\n",
    "```python\n",
    "@timer\n",
    "def test_function(n):\n",
    "    sum([i**2 for i in range(n)])\n",
    "```\n",
    "\n",
    "### They are a powerful tool for modifying the behavior of functions or classes. \n",
    "\n",
    "- functions are taken as the argument into another function and then called inside the wrapper function.\n",
    "\n",
    "- decorators provide a **transparent way of extending and modifying the behavior of callable objects** \n",
    "\n",
    "\n",
    "### 💡 The use of decorators promotes cleaner, more readable code and adheres to the DRY (Don't Repeat Yourself) principle by abstracting away repetitive patterns into reusable components.\n",
    "\n",
    "\n",
    "\n"
   ]
  },
  {
   "cell_type": "markdown",
   "metadata": {},
   "source": [
    "### **Example 1: Create a decorator that prints the execution time of a function.**"
   ]
  },
  {
   "cell_type": "code",
   "execution_count": 1,
   "metadata": {},
   "outputs": [
    {
     "name": "stdout",
     "output_type": "stream",
     "text": [
      "Execution time: 0.00037789344787597656 seconds\n"
     ]
    }
   ],
   "source": [
    "import time\n",
    "\n",
    "def timer(func):\n",
    "    def wrapper(*args, **kwargs):\n",
    "        start = time.time()\n",
    "        result = func(*args, **kwargs)\n",
    "        end = time.time()\n",
    "        print(f'Execution time: {end - start} seconds')\n",
    "        return result\n",
    "    return wrapper\n",
    "\n",
    "@timer\n",
    "def test_function(n):\n",
    "    sum([i**2 for i in range(n)])\n",
    "\n",
    "test_function(10000)"
   ]
  },
  {
   "cell_type": "markdown",
   "metadata": {},
   "source": [
    "### **Example 2: Write a decorator that logs the arguments passed to any function.**"
   ]
  },
  {
   "cell_type": "code",
   "execution_count": null,
   "metadata": {},
   "outputs": [],
   "source": [
    "def logger(func):\n",
    "    def wrapper(*args, **kwargs):\n",
    "        print(f\"Arguments: {args}, {kwargs}\")\n",
    "        return func(*args, **kwargs)\n",
    "    return wrapper\n",
    "\n",
    "@logger\n",
    "def add(x, y):\n",
    "    return x + y\n",
    "\n",
    "add(5, 10)"
   ]
  },
  {
   "cell_type": "markdown",
   "metadata": {},
   "source": [
    "\n",
    "### 💡 Utility: Decorators provide a clear, expressive way to modify or enhance the behavior of functions or classes without altering their code. They're ideal for logging, access control, caching, and other cross-cutting concerns.\n",
    "\n",
    "\n",
    "\n",
    "### **Why Use**: \n",
    "\n",
    "### They help adhere to the DRY (Don't Repeat Yourself) principle, promoting code reuse, and can significantly reduce boilerplate code for common patterns such as singleton classes, memorization, or checking preconditions in functions."
   ]
  },
  {
   "cell_type": "markdown",
   "metadata": {},
   "source": [
    "**Example 3: Conditional Decorators**"
   ]
  },
  {
   "cell_type": "code",
   "execution_count": 2,
   "metadata": {},
   "outputs": [
    {
     "name": "stdout",
     "output_type": "stream",
     "text": [
      "Hello!\n",
      "Condition not met, function not executed.\n"
     ]
    }
   ],
   "source": [
    "import functools\n",
    "def conditional_decorator(condition: bool):\n",
    "    def decorator(func):\n",
    "        @functools.wraps(func)\n",
    "        def wrapper(*args, **kwargs):\n",
    "            if condition:\n",
    "                return func(*args, **kwargs)\n",
    "            else:\n",
    "                print(\"Condition not met, function not executed.\")\n",
    "        return wrapper\n",
    "    return decorator\n",
    "\n",
    "@conditional_decorator(condition=True)\n",
    "def say_hello():\n",
    "    print(\"Hello!\")\n",
    "\n",
    "@conditional_decorator(condition=False)\n",
    "def say_goodbye():\n",
    "    print(\"Goodbye!\")\n",
    "\n",
    "say_hello()\n",
    "say_goodbye()"
   ]
  },
  {
   "cell_type": "markdown",
   "metadata": {},
   "source": [
    "### **Exercise 1**: Create a decorator that counts how many times a function is called.\n"
   ]
  },
  {
   "cell_type": "code",
   "execution_count": 3,
   "metadata": {},
   "outputs": [
    {
     "name": "stdout",
     "output_type": "stream",
     "text": [
      "Call 1 of say_hello\n",
      "Hello!\n",
      "Call 2 of say_hello\n",
      "Hello!\n"
     ]
    }
   ],
   "source": [
    "def count_calls(func):\n",
    "    def wrapper(*args, **kwargs):\n",
    "        wrapper.calls += 1\n",
    "        print(f\"Call {wrapper.calls} of {func.__name__}\")\n",
    "        return func(*args, **kwargs)\n",
    "    wrapper.calls = 0\n",
    "    return wrapper\n",
    "\n",
    "@count_calls\n",
    "def say_hello():\n",
    "    print(\"Hello!\")\n",
    "\n",
    "say_hello()\n",
    "say_hello()"
   ]
  },
  {
   "cell_type": "markdown",
   "metadata": {},
   "source": [
    "### Exercise 2: Write a decorator that logs function execution time."
   ]
  },
  {
   "cell_type": "code",
   "execution_count": null,
   "metadata": {},
   "outputs": [],
   "source": [
    "import time\n",
    "def log_time(func):\n",
    "    def wrapper(*args, **kwargs):\n",
    "        start = time.time()\n",
    "        result = func(*args, **kwargs)\n",
    "        end = time.time()\n",
    "        print(f\"{func.__name__} executed in {end - start:.4f} seconds\")\n",
    "        return result\n",
    "    return wrapper\n",
    "\n",
    "@log_time\n",
    "def slow_function():\n",
    "    time.sleep(1)\n",
    "\n",
    "slow_function()\n"
   ]
  },
  {
   "cell_type": "markdown",
   "metadata": {},
   "source": [
    "### Exercise 3: Create a decorator that ensures the first argument to a function is a string."
   ]
  },
  {
   "cell_type": "code",
   "execution_count": 4,
   "metadata": {},
   "outputs": [
    {
     "name": "stdout",
     "output_type": "stream",
     "text": [
      "HelloHelloHello\n"
     ]
    }
   ],
   "source": [
    "def ensure_first_arg_is_string(func):\n",
    "    def wrapper(*args, **kwargs):\n",
    "        if args and not isinstance(args[0], str):\n",
    "            raise ValueError(\"First argument must be a string\")\n",
    "        return func(*args, **kwargs)\n",
    "    return wrapper\n",
    "\n",
    "@ensure_first_arg_is_string\n",
    "def print_string(s, n):\n",
    "    print(s * n)\n",
    "\n",
    "print_string(\"Hello\", 3)  # Prints \"HelloHelloHello\"\n"
   ]
  },
  {
   "cell_type": "markdown",
   "metadata": {},
   "source": [
    "### Exercise 4:  Implement a decorator @debug that prints the arguments and return value of the decorated function."
   ]
  },
  {
   "cell_type": "code",
   "execution_count": null,
   "metadata": {},
   "outputs": [],
   "source": [
    "def debug(func):\n",
    "    def wrapper(*args, **kwargs):\n",
    "        args_repr = [repr(a) for a in args]\n",
    "        kwargs_repr = [f\"{k}={v!r}\" for k, v in kwargs.items()]\n",
    "        signature = \", \".join(args_repr + kwargs_repr)\n",
    "        print(f\"Calling {func.__name__}({signature})\")\n",
    "        result = func(*args, **kwargs)\n",
    "        print(f\"{func.__name__} returned {result!r}\")\n",
    "        return result\n",
    "    return wrapper\n",
    "\n",
    "@debug\n",
    "def add(x, y):\n",
    "    return x + y\n",
    "\n",
    "add(5, 3)\n"
   ]
  },
  {
   "cell_type": "markdown",
   "metadata": {},
   "source": [
    "### Exercise 5: Create a decorator that retries a function up to N times if it raises an exception."
   ]
  },
  {
   "cell_type": "code",
   "execution_count": null,
   "metadata": {},
   "outputs": [],
   "source": [
    "def retry(n):\n",
    "    def decorator(func):\n",
    "        def wrapper(*args, **kwargs):\n",
    "            for _ in range(n):\n",
    "                try:\n",
    "                    return func(*args, **kwargs)\n",
    "                except Exception as e:\n",
    "                    last_exception = e\n",
    "            raise last_exception\n",
    "        return wrapper\n",
    "    return decorator\n",
    "\n",
    "@retry(3)\n",
    "def might_fail(num):\n",
    "    from random import randint\n",
    "    if randint(0, 1) == 0:\n",
    "        print(\"Failed!\")\n",
    "        raise ValueError(\"Failed\")\n",
    "    return num\n",
    "\n",
    "print(might_fail(5))\n"
   ]
  },
  {
   "cell_type": "markdown",
   "metadata": {},
   "source": [
    "### Exercise 6: Implement a decorator that wraps function output in a specified HTML tag."
   ]
  },
  {
   "cell_type": "code",
   "execution_count": null,
   "metadata": {},
   "outputs": [],
   "source": [
    "def html_tag(tag):\n",
    "    def decorator(func):\n",
    "        def wrapper(*args, **kwargs):\n",
    "            return f\"<{tag}>{func(*args, **kwargs)}</{tag}>\"\n",
    "        return wrapper\n",
    "    return decorator\n",
    "\n",
    "@html_tag(\"p\")\n",
    "def greet(name):\n",
    "    return f\"Hello, {name}!\"\n",
    "\n",
    "print(greet(\"World\"))\n"
   ]
  },
  {
   "cell_type": "markdown",
   "metadata": {},
   "source": [
    "### Exercise 7: Create a decorator ensure_authenticated that only calls the function if a given user dictionary has \"authenticated\": True."
   ]
  },
  {
   "cell_type": "code",
   "execution_count": null,
   "metadata": {},
   "outputs": [],
   "source": [
    "def retry(n):\n",
    "    def decorator(func):\n",
    "        def wrapper(*args, **kwargs):\n",
    "            for _ in range(n):\n",
    "                try:\n",
    "                    return func(*args, **kwargs)\n",
    "                except Exception as e:\n",
    "                    last_exception = e\n",
    "            raise last_exception\n",
    "        return wrapper\n",
    "    return decorator\n",
    "\n",
    "@retry(3)\n",
    "def might_fail(num):\n",
    "    from random import randint\n",
    "    if randint(0, 1) == 0:\n",
    "        print(\"Failed!\")\n",
    "        raise ValueError(\"Failed\")\n",
    "    return num\n",
    "\n",
    "print(might_fail(5))\n"
   ]
  },
  {
   "cell_type": "markdown",
   "metadata": {},
   "source": [
    "### Exercise 8:  Implement a decorator validate_type that ensures the first argument to the decorated function is of a specified type."
   ]
  },
  {
   "cell_type": "code",
   "execution_count": 10,
   "metadata": {},
   "outputs": [
    {
     "name": "stdout",
     "output_type": "stream",
     "text": [
      "Failed!\n",
      "5\n"
     ]
    }
   ],
   "source": [
    "def retry(n):\n",
    "    def decorator(func):\n",
    "        def wrapper(*args, **kwargs):\n",
    "            for _ in range(n):\n",
    "                try:\n",
    "                    return func(*args, **kwargs)\n",
    "                except Exception as e:\n",
    "                    last_exception = e\n",
    "            raise last_exception\n",
    "        return wrapper\n",
    "    return decorator\n",
    "\n",
    "@retry(3)\n",
    "def might_fail(num):\n",
    "    from random import randint\n",
    "    if randint(0, 1) == 0:\n",
    "        print(\"Failed!\")\n",
    "        raise ValueError(\"Failed\")\n",
    "    return num\n",
    "\n",
    "print(might_fail(5))\n",
    "\n"
   ]
  }
 ],
 "metadata": {
  "kernelspec": {
   "display_name": "myenv",
   "language": "python",
   "name": "python3"
  },
  "language_info": {
   "codemirror_mode": {
    "name": "ipython",
    "version": 3
   },
   "file_extension": ".py",
   "mimetype": "text/x-python",
   "name": "python",
   "nbconvert_exporter": "python",
   "pygments_lexer": "ipython3",
   "version": "3.11.8"
  }
 },
 "nbformat": 4,
 "nbformat_minor": 2
}
