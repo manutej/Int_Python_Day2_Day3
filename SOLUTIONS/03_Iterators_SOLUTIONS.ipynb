{
 "cells": [
  {
   "cell_type": "markdown",
   "metadata": {},
   "source": [
    "# Iterators \n",
    "\n",
    "\n",
    "### Built-in Functions: **`iter()`** and **`next()`**\n",
    "\n",
    "- **`iter()`** creates an iterator object from an iterable (like lists, tuples, or strings), enabling manual control over iterations.\n",
    "- **`next()`** retrieves the next item from an iterator and advances its internal state. It raises **`StopIteration`** when there are no more items.\n",
    "\n",
    "```python\n",
    "my_list = [1, 2, 3]\n",
    "my_iter = iter(my_list)\n",
    "\n",
    "print(next(my_iter))  # 1\n",
    "print(next(my_iter))  # 2\n",
    "```\n",
    "\n",
    "\n",
    "\n",
    "\n",
    "\n",
    "\n",
    "    \n",
    "\n",
    "    \n",
    "    \n",
    "\n",
    "\n",
    "    \n",
    "\n",
    "\n"
   ]
  },
  {
   "cell_type": "markdown",
   "metadata": {},
   "source": [
    "💡 **`iter()`** creates an iterator, and **`next()`** fetches the next item.\n"
   ]
  },
  {
   "cell_type": "markdown",
   "metadata": {},
   "source": [
    "### The **`itertools`** Module\n",
    "\n",
    "**`itertools`** is a standard library module providing a collection of tools for handling iterators. These tools offer a combination of simplicity and power, ideal for creating complex iterators in a memory-efficient way.\n",
    "\n",
    "- **`chain()`**: Merges multiple iterables into a single iterator, useful for processing multiple sequences as one without concatenating them first.\n",
    "    \n",
    "**Use `chain` from `itertools` to merge two lists and iterate over them**."
   ]
  },
  {
   "cell_type": "code",
   "execution_count": null,
   "metadata": {},
   "outputs": [],
   "source": [
    "from itertools import chain\n",
    "list1 = [1, 2, 3]\n",
    "list2 = [4, 5, 6]\n",
    "for item in chain(list1, list2):\n",
    "    print(item, end=\" \")  # 1 2 3 4 5 6"
   ]
  },
  {
   "cell_type": "markdown",
   "metadata": {},
   "source": [
    "**Merge Multiple Lists with `chain`**: Use **`itertools.chain()`** to iterate over multiple lists sequentially."
   ]
  },
  {
   "cell_type": "code",
   "execution_count": null,
   "metadata": {},
   "outputs": [],
   "source": [
    "import itertools\n",
    "list1 = [1, 2, 3]\n",
    "list2 = [4, 5, 6]\n",
    "list3 = [7, 8, 9]\n",
    "\n",
    "for num in itertools.chain(list1, list2, list3):\n",
    "    print(num, end=\" \")  # 1 2 3 4 5 6 7 8 9\n"
   ]
  },
  {
   "cell_type": "markdown",
   "metadata": {},
   "source": [
    "- **`groupby()`**: Groups adjacent elements in an iterable that have the same key, allowing for grouped data processing like aggregation.\n",
    "    \n",
    "    **Group Elements by a Key with `groupby`**: Use **`itertools.groupby()`** to group strings in a list by their first letter."
   ]
  },
  {
   "cell_type": "code",
   "execution_count": null,
   "metadata": {},
   "outputs": [],
   "source": [
    "words = [\"apple\", \"bat\", \"bar\", \"atom\", \"book\"]\n",
    "sorted_words = sorted(words, key=lambda word: word[0])\n",
    "\n",
    "for key, group in itertools.groupby(sorted_words, key=lambda word: word[0]):\n",
    "    print(f\"{key}: {list(group)}\")\n"
   ]
  },
  {
   "cell_type": "markdown",
   "metadata": {},
   "source": [
    "\n",
    "💡 **`chain`**: Combine multiple iterables into one.\n",
    "\n",
    "**`groupby`**: Group adjacent elements in an iterable that have the same key.\n",
    "\n",
    "\n",
    "\n",
    "**Group elements of a list using `groupby` based on a property**.\n",
    "\n"
   ]
  },
  {
   "cell_type": "code",
   "execution_count": 1,
   "metadata": {},
   "outputs": [
    {
     "name": "stdout",
     "output_type": "stream",
     "text": [
      "fruit [('fruit', 'apple'), ('fruit', 'banana')]\n",
      "vegetable [('vegetable', 'carrot')]\n",
      "fruit [('fruit', 'date')]\n"
     ]
    }
   ],
   "source": [
    "from itertools import groupby\n",
    "data = [(\"fruit\", \"apple\"), (\"fruit\", \"banana\"), (\"vegetable\", \"carrot\"), (\"fruit\", \"date\")]\n",
    "for key, group in groupby(data, lambda x: x[0]):\n",
    "    print(key, list(group))\n",
    "# fruit [('fruit', 'apple'), ('fruit', 'banana')]\n",
    "# vegetable [('vegetable', 'carrot')]\n",
    "# fruit [('fruit', 'date')]"
   ]
  },
  {
   "cell_type": "markdown",
   "metadata": {},
   "source": [
    "## Other `itertools` methods\n",
    "\n",
    "Here are some more methods provided by the `itertools` module, along with brief descriptions:\n",
    "\n",
    "- **`cycle(iterable)`**: This method returns an iterator that produces elements from the iterable indefinitely. Once the iterable is exhausted, it starts from the beginning again, creating an infinite cycle.\n",
    "- **`repeat(element, [times])`**: This method returns an iterator that returns the specified element endlessly or a specified number of times. If the times argument is omitted, it repeats indefinitely.\n",
    "- **`islice(iterable, [start], stop, [step])`**: This method returns an iterator that produces selected elements from the iterable, working like a slice operation. It takes start, stop, and step arguments like a traditional slice, and it's useful when working with large or infinite iterables.\n",
    "- **`combinations(iterable, r)`**: This method returns an iterator that produces all combinations of `r` length from the elements of the iterable. Each combination is generated in lexicographic sort order, so input iterable needs to be sorted for the output combinations to be also sorted.\n",
    "- **`permutations(iterable, r)`**: This method returns an iterator that produces all `r` length permutations of the elements from the iterable. Permutations are generated in lexicographic sort order.\n",
    "- **`product(*iterables, repeat=1)`**: This method returns an iterator that produces the cartesian product of the input iterables. It's equivalent to nested for-loops. The nested loops cycle like an odometer with the rightmost element advancing on every iteration.\n",
    "\n",
    "A few other useful `itertools` methods include:\n",
    "\n",
    "- **`dropwhile(predicate, iterable)`**: This method makes an iterator that drops elements from the iterable as long as the predicate is true; afterwards, it returns every remaining element.\n",
    "- **`takewhile(predicate, iterable)`**: The opposite of dropwhile(), this method makes an iterator and returns elements from the iterable as long as the predicate is true.\n",
    "- **`accumulate(iterable[, func, *, initial=None])`**: This method makes an iterator that returns accumulated sums, or accumulated results of other binary functions.\n",
    "- **`chain.from_iterable(iterable)`**: This method is used when you want to chain together an iterable of iterables. It's similar to `itertools.chain(*iterables)` but more memory-friendly.\n",
    "- **`compress(data, selectors)`**: This method makes an iterator that filters elements from data returning only those that have a corresponding element in selectors that evaluates to `True`.\n",
    "- **`count(start=0, step=1)`**: This method makes an iterator that returns evenly spaced values starting with number start.\n",
    "\n",
    "These methods can be combined in various ways to achieve complex iteration patterns in your code.\n",
    "\n",
    "\n",
    "There are many different itertools methods that can be used for your specific iteration use case. It is not useful to memorize them all, but it is useful to try exploring itertools in your day to day programming workflow (if working with iterators) in order to get a good grasp on how this group of tools works. Here’s another fun example:\n",
    "\n",
    "**Creating Infinite Iterators**: Use **`itertools.count()`** to create an infinite iterator of numbers starting from a specified number."
   ]
  },
  {
   "cell_type": "code",
   "execution_count": null,
   "metadata": {},
   "outputs": [],
   "source": [
    "for number in itertools.count(10):\n",
    "    if number > 20:\n",
    "        break\n",
    "    print(number, end=\" \")  # 10 11 12 ... 20"
   ]
  },
  {
   "cell_type": "markdown",
   "metadata": {},
   "source": [
    "\n",
    "You can find more documentation on the main `itertools` website [here](https://docs.python.org/3/library/itertools.html)."
   ]
  },
  {
   "cell_type": "markdown",
   "metadata": {},
   "source": [
    "### Using **`iter()`** and **`next()`**\n",
    "\n",
    "The exercises  below are designed to provide a clearer understanding of how to use **`iter()`** and **`next()`** in Python for iterating over various data types and structures.  As you work through these exercises you can begin to get the hang of how iterators work and get a feel for the types of tasks you can perform with `iter()` and `next()`."
   ]
  },
  {
   "cell_type": "markdown",
   "metadata": {},
   "source": [
    "## EXERCISES"
   ]
  },
  {
   "cell_type": "markdown",
   "metadata": {},
   "source": [
    "### **Exercise 1: Manually Iterate Over a List**\n",
    "\n",
    "**Problem**: Use **`iter()`** and **`next()`** to manually iterate over a list."
   ]
  },
  {
   "cell_type": "code",
   "execution_count": null,
   "metadata": {},
   "outputs": [],
   "source": [
    "my_list = [1, 2, 3]\n",
    "my_iter = iter(my_list)\n",
    "\n",
    "print(next(my_iter))  # 1\n",
    "print(next(my_iter))  # 2\n",
    "print(next(my_iter))  # 3"
   ]
  },
  {
   "cell_type": "markdown",
   "metadata": {},
   "source": [
    "### **Exercise 2: Iterating Through a String**\n",
    "\n",
    "**Problem**: Manually iterate through a string using **`iter()`** and **`next()`**."
   ]
  },
  {
   "cell_type": "code",
   "execution_count": null,
   "metadata": {},
   "outputs": [],
   "source": [
    "my_string = \"hello\"\n",
    "my_string_iter = iter(my_string)\n",
    "\n",
    "print(next(my_string_iter))  # h\n",
    "print(next(my_string_iter))  # e\n",
    "print(next(my_string_iter))  # l\n",
    "print(next(my_string_iter))  # l\n",
    "print(next(my_string_iter))  # o"
   ]
  },
  {
   "cell_type": "markdown",
   "metadata": {},
   "source": [
    "### **Exercise 3: Using `next()` with Default**\n",
    "\n",
    "**Problem**: Use **`next()`** with a default value to avoid **`StopIteration`** exception when the iterator is exhausted."
   ]
  },
  {
   "cell_type": "code",
   "execution_count": null,
   "metadata": {},
   "outputs": [],
   "source": [
    "numbers = [1, 2, 3]\n",
    "numbers_iter = iter(numbers)\n",
    "\n",
    "print(next(numbers_iter, 'End'))  # 1\n",
    "print(next(numbers_iter, 'End'))  # 2\n",
    "print(next(numbers_iter, 'End'))  # 3\n",
    "print(next(numbers_iter, 'End'))  # End"
   ]
  },
  {
   "cell_type": "markdown",
   "metadata": {},
   "source": [
    "### **Exercise 4: Iterating Through a Dictionary**\n",
    "\n",
    "**Problem**: Use **`iter()`** on a dictionary's items view to iterate through its items."
   ]
  },
  {
   "cell_type": "code",
   "execution_count": null,
   "metadata": {},
   "outputs": [],
   "source": [
    "my_dict = {'a': 1, 'b': 2, 'c': 3}\n",
    "my_dict_iter = iter(my_dict.items())\n",
    "\n",
    "print(next(my_dict_iter))  # ('a', 1)\n",
    "print(next(my_dict_iter))  # ('b', 2)\n",
    "print(next(my_dict_iter))  # ('c', 3)"
   ]
  },
  {
   "cell_type": "markdown",
   "metadata": {},
   "source": [
    "### **Exercise 5: Iterating Through a File Line by Line**\n",
    "\n",
    "**Problem**: Open a text file and use **`iter()`** and **`next()`** to read the first two lines without a loop."
   ]
  },
  {
   "cell_type": "code",
   "execution_count": null,
   "metadata": {},
   "outputs": [],
   "source": [
    "# Assuming 'example.txt' contains at least two lines of text\n",
    "with open('example.txt', 'r') as file:\n",
    "    file_iter = iter(file)\n",
    "    print(next(file_iter).strip())  # Reads and prints the first line\n",
    "    print(next(file_iter).strip())  # Reads and prints the second line"
   ]
  },
  {
   "cell_type": "markdown",
   "metadata": {},
   "source": [
    "### **Exercise 6: Continuous Iteration**\n",
    "\n",
    "**Problem:** Use `iter()` and `next()` to cycle through a list of colors indefinitely."
   ]
  },
  {
   "cell_type": "code",
   "execution_count": null,
   "metadata": {},
   "outputs": [],
   "source": [
    "colors = ['red', 'green', 'blue']\n",
    "cycle_colors = iter(colors * 3)  # Simplification for demonstration\n",
    "\n",
    "print(next(cycle_colors))  # red\n",
    "print(next(cycle_colors))  # green\n",
    "print(next(cycle_colors))  # blue\n",
    "print(next(cycle_colors))  # red"
   ]
  },
  {
   "cell_type": "markdown",
   "metadata": {},
   "source": [
    "### **Exercise 7: Iterating with a Loop**\n",
    "\n",
    "**Problem**: Use a loop to iterate through a list using an iterator until all elements are exhausted. Handle the **`StopIteration`** exception."
   ]
  },
  {
   "cell_type": "code",
   "execution_count": null,
   "metadata": {},
   "outputs": [],
   "source": [
    "my_iter = iter(my_list)\n",
    "while True:\n",
    "    try:\n",
    "        item = next(my_iter)\n",
    "        print(item)\n",
    "    except StopIteration:\n",
    "        break"
   ]
  },
  {
   "cell_type": "markdown",
   "metadata": {},
   "source": [
    "### **Exercise 8: Detecting `StopIteration`**\n",
    "\n",
    "**Problem:** Use a while loop with **`iter()`** and **`next()`** to iterate over a list and catch the **`StopIteration`** exception."
   ]
  },
  {
   "cell_type": "code",
   "execution_count": null,
   "metadata": {},
   "outputs": [],
   "source": [
    "my_iter = iter(my_list)\n",
    "while True:\n",
    "    try:\n",
    "        print(next(my_iter))\n",
    "    except StopIteration:\n",
    "        break"
   ]
  },
  {
   "cell_type": "markdown",
   "metadata": {},
   "source": [
    "### **Exercise 9: Custom Iterable Class**\n",
    "\n",
    "**Problem**: Create a custom iterable class that returns an iterator from **`iter()`** and uses **`next()`** to iterate over its data."
   ]
  },
  {
   "cell_type": "code",
   "execution_count": 3,
   "metadata": {},
   "outputs": [
    {
     "name": "stdout",
     "output_type": "stream",
     "text": [
      "1\n",
      "2\n",
      "3\n",
      "4\n"
     ]
    }
   ],
   "source": [
    "class MyRange:\n",
    "    def __init__(self, start, end):\n",
    "        self.current = start\n",
    "        self.end = end\n",
    "    \n",
    "    def __iter__(self):\n",
    "        return self\n",
    "    \n",
    "    def __next__(self):\n",
    "        if self.current < self.end:\n",
    "            number = self.current\n",
    "            self.current += 1\n",
    "            return number\n",
    "        raise StopIteration\n",
    "\n",
    "for num in MyRange(1, 5):\n",
    "    print(num)"
   ]
  },
  {
   "cell_type": "markdown",
   "metadata": {},
   "source": [
    "### **Exercise 10: Infinite Iterator**\n",
    "\n",
    "**Problem**: Implement an infinite iterator class that returns consecutive integers starting from 1."
   ]
  },
  {
   "cell_type": "code",
   "execution_count": null,
   "metadata": {},
   "outputs": [],
   "source": [
    "class InfiniteIntegers:\n",
    "    def __init__(self):\n",
    "        self.num = 1\n",
    "    \n",
    "    def __iter__(self):\n",
    "        return self\n",
    "    \n",
    "    def __next__(self):\n",
    "        num = self.num\n",
    "        self.num += 1\n",
    "        return num\n",
    "\n",
    "infinite_integers = InfiniteIntegers()\n",
    "print(next(infinite_integers))  # 1\n",
    "print(next(infinite_integers))  # 2"
   ]
  },
  {
   "cell_type": "markdown",
   "metadata": {},
   "source": [
    "### **Exercise 11: Reverse List Iterator**\n",
    "\n",
    "**Problem**: Create an iterator class that returns the elements of a list in reverse order."
   ]
  },
  {
   "cell_type": "code",
   "execution_count": null,
   "metadata": {},
   "outputs": [],
   "source": [
    "class ReverseListIterator:\n",
    "    def __init__(self, list_obj):\n",
    "        self.list = list_obj\n",
    "        self.index = len(list_obj)\n",
    "    \n",
    "    def __iter__(self):\n",
    "        return self\n",
    "    \n",
    "    def __next__(self):\n",
    "        if self.index > 0:\n",
    "            self.index -= 1\n",
    "            return self.list[self.index]\n",
    "        else:\n",
    "            raise StopIteration\n",
    "\n",
    "my_list = [1, 2, 3, 4]\n",
    "for item in ReverseListIterator(my_list):\n",
    "    print(item)\n"
   ]
  },
  {
   "cell_type": "markdown",
   "metadata": {},
   "source": [
    "## ITERTOOLS EXERCISES\n",
    "\n",
    "The itertools module in Python standard library is designed for efficient looping and iteration. Here are exercises ranging from simple to more complex, demonstrating practical uses of itertools."
   ]
  },
  {
   "cell_type": "markdown",
   "metadata": {},
   "source": [
    "### Exercise 1: Cycling Through Elements\n",
    "\n",
    "**Problem**: Use **`itertools.cycle`** to cycle through a list of seasons indefinitely."
   ]
  },
  {
   "cell_type": "code",
   "execution_count": null,
   "metadata": {},
   "outputs": [],
   "source": [
    "import itertools\n",
    "\n",
    "seasons = ['Spring', 'Summer', 'Fall', 'Winter']\n",
    "cycled_seasons = itertools.cycle(seasons)\n",
    "\n",
    "print(next(cycled_seasons))  # Spring\n",
    "print(next(cycled_seasons))  # Summer\n",
    "# Can continue indefinitely..."
   ]
  },
  {
   "cell_type": "code",
   "execution_count": null,
   "metadata": {},
   "outputs": [],
   "source": [
    "import itertools\n",
    "\n",
    "seasons = ['Spring', 'Summer', 'Fall', 'Winter']\n",
    "cycled_seasons = itertools.cycle(seasons)\n",
    "\n",
    "print(next(cycled_seasons))  # Spring\n",
    "print(next(cycled_seasons))  # Summer\n",
    "# Can continue indefinitely..."
   ]
  },
  {
   "cell_type": "markdown",
   "metadata": {},
   "source": [
    "### Exercise 2: Generating Consecutive Numbers\n",
    "\n",
    "**Problem**: Use **`itertools.count`** to generate a sequence of consecutive numbers starting from 0."
   ]
  },
  {
   "cell_type": "code",
   "execution_count": null,
   "metadata": {},
   "outputs": [],
   "source": [
    "counter = itertools.count()\n",
    "\n",
    "print(next(counter))  # 0\n",
    "print(next(counter))  # 1\n",
    "# And so on..."
   ]
  },
  {
   "cell_type": "markdown",
   "metadata": {},
   "source": [
    "### Exercise 3: Repeating an Element\n",
    "\n",
    "**Problem**: Use **`itertools.repeat`** to repeat the word \"Hello\" three times."
   ]
  },
  {
   "cell_type": "code",
   "execution_count": null,
   "metadata": {},
   "outputs": [],
   "source": [
    "counter = itertools.count()\n",
    "\n",
    "print(next(counter))  # 0\n",
    "print(next(counter))  # 1\n",
    "# And so on..."
   ]
  },
  {
   "cell_type": "markdown",
   "metadata": {},
   "source": [
    "### Exercise 3: Repeating an Element\n",
    "\n",
    "**Problem**: Use **`itertools.repeat`** to repeat the word \"Hello\" three times."
   ]
  },
  {
   "cell_type": "code",
   "execution_count": null,
   "metadata": {},
   "outputs": [],
   "source": [
    "repeated_hello = itertools.repeat(\"Hello\", 3)\n",
    "\n",
    "for greeting in repeated_hello:\n",
    "    print(greeting)\n"
   ]
  },
  {
   "cell_type": "markdown",
   "metadata": {},
   "source": [
    "### Exercise 4: Combining Elements of Two Lists\n",
    "\n",
    "**Problem**: Use **`itertools.chain`** to combine elements from two lists into a single iterable."
   ]
  },
  {
   "cell_type": "code",
   "execution_count": null,
   "metadata": {},
   "outputs": [],
   "source": [
    "list1 = [1, 2, 3]\n",
    "list2 = ['a', 'b', 'c']\n",
    "\n",
    "combined = itertools.chain(list1, list2)\n",
    "\n",
    "for item in combined:\n",
    "    print(item)"
   ]
  },
  {
   "cell_type": "markdown",
   "metadata": {},
   "source": [
    "### Exercise 5: Pairwise Combinations\n",
    "\n",
    "**Problem**: Use **`itertools.combinations`** to find all unique pairs of numbers in a list."
   ]
  },
  {
   "cell_type": "code",
   "execution_count": null,
   "metadata": {},
   "outputs": [],
   "source": [
    "numbers = [1, 2, 3, 4]\n",
    "pairs = itertools.combinations(numbers, 2)\n",
    "\n",
    "for pair in pairs:\n",
    "    print(pair)"
   ]
  },
  {
   "cell_type": "markdown",
   "metadata": {},
   "source": [
    "### Exercise 6: Producing Cartesian Product\n",
    "\n",
    "**Problem**: Use **`itertools.product`** to produce the Cartesian product of colors and sizes."
   ]
  },
  {
   "cell_type": "code",
   "execution_count": null,
   "metadata": {},
   "outputs": [],
   "source": [
    "colors = ['red', 'blue', 'green']\n",
    "sizes = ['S', 'M', 'L']\n",
    "\n",
    "products = itertools.product(colors, sizes)\n",
    "\n",
    "for product in products:\n",
    "    print(product)"
   ]
  },
  {
   "cell_type": "markdown",
   "metadata": {},
   "source": [
    "### Exercise 7: Grouping Adjacent Elements\n",
    "\n",
    "**Problem**: Use **`itertools.groupby`** to group consecutive numbers in a list that share the same even or odd property."
   ]
  },
  {
   "cell_type": "code",
   "execution_count": null,
   "metadata": {},
   "outputs": [],
   "source": [
    "numbers = [1, 2, 2, 3, 4, 5, 6, 7]\n",
    "key_func = lambda x: x % 2 == 0\n",
    "grouped_numbers = itertools.groupby(numbers, key_func)\n",
    "\n",
    "for key, group in grouped_numbers:\n",
    "    print(f\"{'Even' if key else 'Odd'}: {list(group)}\")"
   ]
  },
  {
   "cell_type": "markdown",
   "metadata": {},
   "source": [
    "### Exercise 8: Creating Permutations\n",
    "\n",
    "**Problem**: Use **`itertools.permutations`** to create all possible three-letter arrangements from \"ABC\"."
   ]
  },
  {
   "cell_type": "code",
   "execution_count": null,
   "metadata": {},
   "outputs": [],
   "source": [
    "arrangements = itertools.permutations(\"ABC\", 3)\n",
    "\n",
    "for arrangement in arrangements:\n",
    "    print(''.join(arrangement))"
   ]
  },
  {
   "cell_type": "markdown",
   "metadata": {},
   "source": [
    "### Exercise 9: Filtering with Predicates\n",
    "\n",
    "**Problem**: Use **`itertools.filterfalse`** to remove negative numbers from a list."
   ]
  },
  {
   "cell_type": "code",
   "execution_count": null,
   "metadata": {},
   "outputs": [],
   "source": [
    "numbers = [-2, -1, 0, 1, 2]\n",
    "positive_numbers = itertools.filterfalse(lambda x: x < 0, numbers)\n",
    "\n",
    "for num in positive_numbers:\n",
    "    print(num)"
   ]
  },
  {
   "cell_type": "markdown",
   "metadata": {},
   "source": [
    "### Exercise 10: Zipping Longest\n",
    "\n",
    "**Problem**: Use **`itertools.zip_longest`** to zip two lists of different lengths."
   ]
  },
  {
   "cell_type": "code",
   "execution_count": null,
   "metadata": {},
   "outputs": [],
   "source": [
    "names = ['Alice', 'Bob', 'Charlie']\n",
    "scores = [85, 90]\n",
    "\n",
    "zipped = itertools.zip_longest(names, scores, fillvalue=\"No Score\")\n",
    "\n",
    "for name, score in zipped:\n",
    "    print(f\"{name}: {score}\")"
   ]
  }
 ],
 "metadata": {
  "kernelspec": {
   "display_name": "myenv",
   "language": "python",
   "name": "python3"
  },
  "language_info": {
   "codemirror_mode": {
    "name": "ipython",
    "version": 3
   },
   "file_extension": ".py",
   "mimetype": "text/x-python",
   "name": "python",
   "nbconvert_exporter": "python",
   "pygments_lexer": "ipython3",
   "version": "3.11.8"
  }
 },
 "nbformat": 4,
 "nbformat_minor": 2
}
