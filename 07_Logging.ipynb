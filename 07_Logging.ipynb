{
 "cells": [
  {
   "cell_type": "markdown",
   "metadata": {},
   "source": [
    "# Logging\n",
    "Logging is an essential aspect of software development and maintenance, providing:\n",
    "\n",
    "- visibility into the application's behavior\n",
    "\n",
    "- helping with debugging \n",
    "\n",
    "- ensuring the application is performing as expected. \n",
    "\n",
    "Effective logging strategies enhance the maintainability and operability of software -> CLEAN CODE\n",
    "\n",
    "Core Concepts\n",
    "Basic Logging: At its simplest, logging involves recording information about the operation of a program. This might include errors, warnings, and other informational messages.\n"
   ]
  },
  {
   "cell_type": "code",
   "execution_count": null,
   "metadata": {},
   "outputs": [],
   "source": [
    "import logging\n",
    "\n",
    "logging.basicConfig(level=logging.INFO, format='%(asctime)s - %(name)s - %(levelname)s - %(message)s')\n",
    "logger = logging.getLogger(__name__)\n",
    "\n",
    "logger.info('This is an info message')\n"
   ]
  },
  {
   "cell_type": "markdown",
   "metadata": {},
   "source": [
    "### Logging Levels: \n",
    "### Logging levels (`DEBUG, INFO, WARNING, ERROR, CRITICAL`) allow developers to categorize the importance of log messages, making it easier to filter and search through logs.\n"
   ]
  },
  {
   "cell_type": "markdown",
   "metadata": {},
   "source": [
    "Let's write a Python script that logs messages at different levels (`DEBUG, INFO, WARNING, ERROR, CRITICAL`) and observe the output when changing the logging level."
   ]
  },
  {
   "cell_type": "code",
   "execution_count": null,
   "metadata": {},
   "outputs": [],
   "source": [
    "import logging\n",
    "\n",
    "# Configure logging to display messages of all levels to the console\n",
    "logging.basicConfig(level=logging.DEBUG, format='%(asctime)s - %(levelname)s - %(message)s')\n",
    "\n",
    "# Log messages of each level\n",
    "logging.debug('This is a debug message')\n",
    "logging.info('This is an info message')\n",
    "logging.warning('This is a warning message')\n",
    "logging.error('This is an error message')\n",
    "logging.critical('This is a critical message')\n"
   ]
  },
  {
   "cell_type": "markdown",
   "metadata": {},
   "source": [
    "Observations\n",
    "By setting the logging level to DEBUG with basicConfig(level=logging.DEBUG), you've configured the logger to handle all levels of messages (DEBUG and above). Therefore, all your log messages (DEBUG, INFO, WARNING, ERROR, CRITICAL) will be visible in the output.\n",
    "The log messages will include a timestamp, the log level, and the actual message, as formatted in the basicConfig call."
   ]
  },
  {
   "cell_type": "markdown",
   "metadata": {},
   "source": [
    "### Advanced Logging Strategies: \n",
    "Beyond basic logging, advanced strategies involve structured logging, log aggregation, and analysis to provide insights into application performance and user behavior.\n",
    "\n",
    "\n",
    "### Configuring Loggers, Handlers, and Formatters\n",
    "Python's logging module allows for detailed configurations, enabling the customization of log message handling and formatting.\n",
    "\n",
    "### `fileConfig` for Complex Configurations: \n",
    "For applications with more complex logging needs, fileConfig allows developers to configure loggers, handlers, and formatters in a separate configuration file, improving modularity and readability."
   ]
  },
  {
   "cell_type": "markdown",
   "metadata": {},
   "source": [
    "### Example: Advanced Logging with Handlers and Formatters\n"
   ]
  },
  {
   "cell_type": "code",
   "execution_count": null,
   "metadata": {},
   "outputs": [],
   "source": [
    "import logging\n",
    "\n",
    "# Create a logger\n",
    "logger = logging.getLogger('advanced_logger')\n",
    "logger.setLevel(logging.DEBUG)\n",
    "\n",
    "# Create file handler which logs even debug messages\n",
    "fh = logging.FileHandler('debug.log')\n",
    "fh.setLevel(logging.DEBUG)\n",
    "\n",
    "# Create console handler with a higher log level\n",
    "ch = logging.StreamHandler()\n",
    "ch.setLevel(logging.ERROR)\n",
    "\n",
    "# Create formatter and add it to the handlers\n",
    "formatter = logging.Formatter('%(asctime)s - %(levelname)s - %(message)s')\n",
    "fh.setFormatter(formatter)\n",
    "ch.setFormatter(formatter)\n",
    "\n",
    "# Add the handlers to the logger\n",
    "logger.addHandler(fh)\n",
    "logger.addHandler(ch)\n",
    "\n",
    "logger.debug('This message should go to the debug log file.')\n",
    "logger.error('This should appear on the console.')\n"
   ]
  },
  {
   "cell_type": "markdown",
   "metadata": {},
   "source": [
    "### Exercise: Configuring Logging with a Configuration File\n",
    "Objective: Practice using fileConfig for logging configurations.\n",
    "\n",
    "Create a logging configuration file named logging.conf:"
   ]
  },
  {
   "cell_type": "markdown",
   "metadata": {},
   "source": [
    "Paste the following into a `logging.conf` file\n",
    "\n",
    "```\n",
    "[loggers]\n",
    "keys=root,exampleApp\n",
    "\n",
    "[handlers]\n",
    "keys=consoleHandler\n",
    "\n",
    "[formatters]\n",
    "keys=simpleFormatter\n",
    "\n",
    "[logger_root]\n",
    "level=DEBUG\n",
    "handlers=consoleHandler\n",
    "\n",
    "[logger_exampleApp]\n",
    "level=DEBUG\n",
    "handlers=consoleHandler\n",
    "qualname=exampleApp\n",
    "propagate=0\n",
    "\n",
    "[handler_consoleHandler]\n",
    "class=StreamHandler\n",
    "level=DEBUG\n",
    "formatter=simpleFormatter\n",
    "args=(sys.stdout,)\n",
    "\n",
    "[formatter_simpleFormatter]\n",
    "format=%(asctime)s - %(name)s - %(levelname)s - %(message)s\n",
    "datefmt=%Y-%m-%d %H:%M:%S\n",
    "```"
   ]
  },
  {
   "cell_type": "markdown",
   "metadata": {},
   "source": [
    "### Next Step: Write a Python script to configure logging using the logging.conf file:\n"
   ]
  },
  {
   "cell_type": "code",
   "execution_count": null,
   "metadata": {},
   "outputs": [],
   "source": [
    "import logging\n",
    "import logging.config\n",
    "\n",
    "logging.config.fileConfig(fname='logging.conf', disable_existing_loggers=False)\n",
    "\n",
    "# Get the logger specified in the file\n",
    "logger = logging.getLogger(\"exampleApp\")\n",
    "\n",
    "logger.debug(\"This is a debug message\")\n"
   ]
  },
  {
   "cell_type": "markdown",
   "metadata": {},
   "source": [
    "## Wisdom for Correct Logging Practices\n",
    "### 1. Use Different Levels Appropriately: \n",
    "Utilize logging levels to differentiate the importance of messages. This helps in filtering logs for relevant information.\n",
    "### 2. Be Descriptive in Log Messages: \n",
    "Include enough context in your log messages to make them useful for debugging. Mention the module, method, or any identifiers related to the event.\n",
    "### 3. Avoid Sensitive Information\n",
    "Never log sensitive information like passwords or personal user data. This is crucial for security.\n",
    "\n",
    "### 4. Use Rotating File Handlers for File Logs: \n",
    "Implement log rotation to manage file sizes and maintain old logs without consuming too much disk space.\n",
    "\n",
    "### 5. Configure Loggers in a Central Place: \n",
    "Set up your logging configurations centrally, ideally at the entry point of your application, to ensure consistency across modules.\n",
    "\n",
    "### 6. Leverage fileConfig or dictConfig for Complex Configurations:\n",
    "\n",
    " For applications with multiple loggers or complex logging needs, use configuration files or dictionaries. This keeps the configuration organized and easily maintainable.\n",
    "\n",
    "### 7. Add Contextual Information When Needed\n",
    "\n",
    "For debugging complex issues, contextual information (like user ID or transaction ID) can be invaluable. Use structured logging or custom log fields to include this data.\n",
    "\n",
    "### 8. Test Your Logging: \n",
    "Ensure your logging works as expected by including tests for critical log statements. This can be part of your application's testing strategy."
   ]
  },
  {
   "cell_type": "markdown",
   "metadata": {},
   "source": [
    "## Exercises"
   ]
  },
  {
   "cell_type": "markdown",
   "metadata": {},
   "source": [
    "1. Create basic logging on one of the files in projects\n",
    "\n",
    "2. Create basic logging on one of your own files or application at work (anything old or archived is perfect)\n",
    "\n",
    "3. Practice using a `logging.conf` file as in the example above to work through various logger handling settings and practicing setting and calling the configuration file. "
   ]
  }
 ],
 "metadata": {
  "language_info": {
   "name": "python"
  }
 },
 "nbformat": 4,
 "nbformat_minor": 2
}
