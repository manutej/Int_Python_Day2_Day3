{
 "cells": [
  {
   "cell_type": "markdown",
   "metadata": {},
   "source": [
    "# Generators\n",
    "\n",
    "### **Generator Functions Concepts**\n",
    "\n",
    "- **Objective**: Understand how to use **`yield`** for generating values lazily.\n",
    "\n",
    "- **Concepts**: **`yield`** vs. **`return`**, creating infinite sequences, stateful generators.\n",
    "\n"
   ]
  },
  {
   "cell_type": "markdown",
   "metadata": {},
   "source": [
    "**`yield` vs. `return`**: \n",
    "While **`return`** terminates a function entirely and sends a specified value back to the caller, **`yield`** pauses the function, saving its state for resumption when the next value is requested. \n",
    "\n",
    "This allows generator functions to produce an ongoing series of values over time.\n",
    "\n",
    "### Generator Basic Example"
   ]
  },
  {
   "cell_type": "code",
   "execution_count": null,
   "metadata": {},
   "outputs": [],
   "source": [
    "def simple_generator():\n",
    "    yield \"Hello\"\n",
    "    yield \"World\"\n",
    "\n",
    "gen = simple_generator()\n",
    "\n",
    "print(next(gen))  # Prints \"Hello\"\n",
    "print(next(gen))  # Prints \"World\""
   ]
  },
  {
   "cell_type": "markdown",
   "metadata": {},
   "source": [
    "In this example, `simple_generator` is a generator function that yields two values one at a time. The `next` function is used to retrieve the next value from the generator."
   ]
  },
  {
   "cell_type": "markdown",
   "metadata": {},
   "source": [
    "### Generator Function with a Loop:\n"
   ]
  },
  {
   "cell_type": "code",
   "execution_count": null,
   "metadata": {},
   "outputs": [],
   "source": [
    "def count_up_to(n):\n",
    "    count = 1\n",
    "    while count <= n:\n",
    "        yield count\n",
    "        count += 1\n",
    "\n",
    "for num in count_up_to(5):\n",
    "    print(num)  # Prints numbers 1 to 5, one per line\n"
   ]
  },
  {
   "cell_type": "markdown",
   "metadata": {},
   "source": [
    "In this example, `count_up_to` is a generator function that yields a sequence of numbers from 1 up to `n`. When used in a for loop, the generator function produces the numbers one at a time until it reaches `n`.\n"
   ]
  },
  {
   "cell_type": "markdown",
   "metadata": {},
   "source": [
    "#### **Creating Infinite Sequences**: Because generator functions produce one item at a time, they can model infinite sequences, such as an endless stream of Fibonacci numbers, without exhausting system memory."
   ]
  },
  {
   "cell_type": "code",
   "execution_count": null,
   "metadata": {},
   "outputs": [],
   "source": [
    "def cycle_list(lst):\n",
    "    while True:\n",
    "        for item in lst:\n",
    "            yield item"
   ]
  },
  {
   "cell_type": "markdown",
   "metadata": {},
   "source": [
    "\n",
    "\n",
    "### **Stateful Generators**\n",
    "\n",
    "Generator functions maintain state between yields. \n",
    "\n",
    "They remember where they left off, making them ideal for tasks that require maintaining an evolving state across iterations, like traversing complex data structures."
   ]
  },
  {
   "cell_type": "code",
   "execution_count": null,
   "metadata": {},
   "outputs": [],
   "source": [
    "def fibonacci():\n",
    "    a, b = 0, 1\n",
    "    while True:\n",
    "        yield a\n",
    "        a, b = b, a + b\n",
    "\n",
    "fib = fibonacci()\n",
    "print(next(fib))  # Prints \"0\"\n",
    "print(next(fib))  # Prints \"1\"\n",
    "print(next(fib))  # Prints \"1\"\n",
    "print(next(fib))  # Prints \"2\""
   ]
  },
  {
   "cell_type": "markdown",
   "metadata": {},
   "source": [
    "\n",
    "This example demonstrates the stateful nature of generators. The `fibonacci` generator function maintains the state of the two previous numbers in the sequence and generates the next Fibonacci number on each call to `next`.\n"
   ]
  },
  {
   "cell_type": "markdown",
   "metadata": {},
   "source": [
    "\n",
    "### Useful Contexts for Generator Functions\n",
    "\n",
    "💡 **Streaming Data Processing**: Processing large data files or streams where holding the entire dataset in memory is impractical or impossible.\n",
    "\n",
    "\n",
    "💡 **Data Pipelines**: Creating pipelines that lazily fetch and process data, enabling efficient data transformation and filtering steps without the need for intermediate storage.\n",
    "\n",
    "\n",
    "\n",
    "\n",
    "💡 **Simulations**: Simulating real-world processes and systems that generate continuous data or events over time.\n",
    "\n",
    "\n",
    "\n",
    "\n",
    "💡 **Infinite Sequences**: Generating sequences of unlimited length, such as sequences of prime numbers, without precomputing the entire sequence."
   ]
  },
  {
   "cell_type": "markdown",
   "metadata": {},
   "source": [
    "Generator functions and the **`yield`** keyword unlock a vast potential for efficient, elegant, and powerful Python programs, particularly in contexts requiring lazy evaluation, infinite sequences, or stateful iteration. \n",
    "\n",
    "By mastering these concepts through the exercises provided, you'll gain the ability to tackle a wide range of programming challenges with greater proficiency and creativity. These patterns are not just syntactical conveniences but fundamental tools that can dramatically improve your code's performance and readability!"
   ]
  },
  {
   "cell_type": "markdown",
   "metadata": {},
   "source": [
    "\n",
    "\n",
    "## Generator Exercises\n",
    "\n",
    "### Basic Exercises"
   ]
  },
  {
   "cell_type": "markdown",
   "metadata": {},
   "source": [
    "\n",
    "### 1. **Generate a Sequence of Squares**: \n",
    "Write a generator function that yields square numbers up to a specified limit."
   ]
  },
  {
   "cell_type": "code",
   "execution_count": 1,
   "metadata": {},
   "outputs": [],
   "source": [
    "### YOUR CODE HERE"
   ]
  },
  {
   "cell_type": "markdown",
   "metadata": {},
   "source": [
    "### 2. **Countdown Timer**: Create a generator that counts down from a given number to zero.\n"
   ]
  },
  {
   "cell_type": "code",
   "execution_count": null,
   "metadata": {},
   "outputs": [],
   "source": [
    "### YOUR CODE HERE"
   ]
  },
  {
   "cell_type": "markdown",
   "metadata": {},
   "source": [
    "### 3. **Generate Even Numbers**: Implement a generator that yields even numbers up to a specified limit."
   ]
  },
  {
   "cell_type": "code",
   "execution_count": null,
   "metadata": {},
   "outputs": [],
   "source": [
    "### YOUR CODE HERE"
   ]
  },
  {
   "cell_type": "markdown",
   "metadata": {},
   "source": [
    "### 4. **Cycle Through a List**: Write a generator that cycles through a list indefinitely.\n"
   ]
  },
  {
   "cell_type": "code",
   "execution_count": null,
   "metadata": {},
   "outputs": [],
   "source": [
    "### YOUR CODE HERE"
   ]
  },
  {
   "cell_type": "code",
   "execution_count": null,
   "metadata": {},
   "outputs": [],
   "source": [
    "### YOUR CODE HERE"
   ]
  },
  {
   "cell_type": "markdown",
   "metadata": {},
   "source": [
    "### **Fibonacci Generator**: Implement a generator function for Fibonacci numbers."
   ]
  },
  {
   "cell_type": "code",
   "execution_count": null,
   "metadata": {},
   "outputs": [],
   "source": [
    "### YOUR CODE HERE"
   ]
  },
  {
   "cell_type": "markdown",
   "metadata": {},
   "source": [
    "## Advanced Exercises\n"
   ]
  },
  {
   "cell_type": "markdown",
   "metadata": {},
   "source": [
    "### Prime Number Generator: Write a generator that yields prime numbers."
   ]
  },
  {
   "cell_type": "code",
   "execution_count": null,
   "metadata": {},
   "outputs": [],
   "source": [
    "### YOUR CODE HERE"
   ]
  },
  {
   "cell_type": "markdown",
   "metadata": {},
   "source": [
    "### Windowed Iterator: \n",
    "Create a generator that yields sliding windows (tuples of consecutive elements) of a specified size from an iterable."
   ]
  },
  {
   "cell_type": "code",
   "execution_count": null,
   "metadata": {},
   "outputs": [],
   "source": [
    "### YOUR CODE HERE"
   ]
  },
  {
   "cell_type": "markdown",
   "metadata": {},
   "source": [
    "### Random Walk Generator\n",
    "Generate an infinite sequence of steps in a random walk (either +1 or -1 at each step)."
   ]
  },
  {
   "cell_type": "code",
   "execution_count": null,
   "metadata": {},
   "outputs": [],
   "source": [
    "### YOUR CODE HERE"
   ]
  },
  {
   "cell_type": "markdown",
   "metadata": {},
   "source": [
    "### Permutations Generator: Yield all permutations of a given list's elements."
   ]
  },
  {
   "cell_type": "code",
   "execution_count": null,
   "metadata": {},
   "outputs": [],
   "source": [
    "### YOUR CODE HERE"
   ]
  },
  {
   "cell_type": "markdown",
   "metadata": {},
   "source": [
    "### Generate Collatz Sequence: For a given starting number, generate the Collatz sequence.\n",
    "\n",
    "A Collatz sequence is started by choosing any positive integer. If that number is odd, multiply it by 3 and add one. If the number is even, divide it by two. Then the resulting number is input into the rule, and this is continued so that a sequence of numbers is formed."
   ]
  },
  {
   "cell_type": "code",
   "execution_count": null,
   "metadata": {},
   "outputs": [],
   "source": [
    "### YOUR CODE HERE"
   ]
  }
 ],
 "metadata": {
  "kernelspec": {
   "display_name": "myenv",
   "language": "python",
   "name": "python3"
  },
  "language_info": {
   "codemirror_mode": {
    "name": "ipython",
    "version": 3
   },
   "file_extension": ".py",
   "mimetype": "text/x-python",
   "name": "python",
   "nbconvert_exporter": "python",
   "pygments_lexer": "ipython3",
   "version": "3.11.8"
  }
 },
 "nbformat": 4,
 "nbformat_minor": 2
}
