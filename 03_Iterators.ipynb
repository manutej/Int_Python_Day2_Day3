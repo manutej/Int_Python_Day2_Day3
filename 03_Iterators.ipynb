{
 "cells": [
  {
   "cell_type": "markdown",
   "metadata": {},
   "source": [
    "# Iterators \n",
    "\n",
    "\n",
    "### Built-in Functions: **`iter()`** and **`next()`**\n",
    "\n",
    "- **`iter()`** creates an iterator object from an iterable (like lists, tuples, or strings), enabling manual control over iterations.\n",
    "- **`next()`** retrieves the next item from an iterator and advances its internal state. It raises **`StopIteration`** when there are no more items.\n",
    "\n",
    "```python\n",
    "my_list = [1, 2, 3]\n",
    "my_iter = iter(my_list)\n",
    "\n",
    "print(next(my_iter))  # 1\n",
    "print(next(my_iter))  # 2\n",
    "```\n",
    "\n",
    "\n",
    "\n",
    "\n",
    "\n",
    "\n",
    "    \n",
    "\n",
    "    \n",
    "    \n",
    "\n",
    "\n",
    "    \n",
    "\n",
    "\n"
   ]
  },
  {
   "cell_type": "markdown",
   "metadata": {},
   "source": [
    "💡 **`iter()`** creates an iterator, and **`next()`** fetches the next item.\n"
   ]
  },
  {
   "cell_type": "markdown",
   "metadata": {},
   "source": [
    "### The **`itertools`** Module\n",
    "\n",
    "**`itertools`** is a standard library module providing a collection of tools for handling iterators. These tools offer a combination of simplicity and power, ideal for creating complex iterators in a memory-efficient way.\n",
    "\n",
    "- **`chain()`**: Merges multiple iterables into a single iterator, useful for processing multiple sequences as one without concatenating them first.\n",
    "    \n",
    "**Use `chain` from `itertools` to merge two lists and iterate over them**."
   ]
  },
  {
   "cell_type": "code",
   "execution_count": null,
   "metadata": {},
   "outputs": [],
   "source": [
    "from itertools import chain\n",
    "list1 = [1, 2, 3]\n",
    "list2 = [4, 5, 6]\n",
    "for item in chain(list1, list2):\n",
    "    print(item, end=\" \")  # 1 2 3 4 5 6"
   ]
  },
  {
   "cell_type": "markdown",
   "metadata": {},
   "source": [
    "**Merge Multiple Lists with `chain`**: Use **`itertools.chain()`** to iterate over multiple lists sequentially."
   ]
  },
  {
   "cell_type": "code",
   "execution_count": null,
   "metadata": {},
   "outputs": [],
   "source": [
    "import itertools\n",
    "list1 = [1, 2, 3]\n",
    "list2 = [4, 5, 6]\n",
    "list3 = [7, 8, 9]\n",
    "\n",
    "for num in itertools.chain(list1, list2, list3):\n",
    "    print(num, end=\" \")  # 1 2 3 4 5 6 7 8 9\n"
   ]
  },
  {
   "cell_type": "markdown",
   "metadata": {},
   "source": [
    "- **`groupby()`**: Groups adjacent elements in an iterable that have the same key, allowing for grouped data processing like aggregation.\n",
    "    \n",
    "    **Group Elements by a Key with `groupby`**: Use **`itertools.groupby()`** to group strings in a list by their first letter."
   ]
  },
  {
   "cell_type": "code",
   "execution_count": null,
   "metadata": {},
   "outputs": [],
   "source": [
    "words = [\"apple\", \"bat\", \"bar\", \"atom\", \"book\"]\n",
    "sorted_words = sorted(words, key=lambda word: word[0])\n",
    "\n",
    "for key, group in itertools.groupby(sorted_words, key=lambda word: word[0]):\n",
    "    print(f\"{key}: {list(group)}\")\n"
   ]
  },
  {
   "cell_type": "markdown",
   "metadata": {},
   "source": [
    "\n",
    "💡 **`chain`**: Combine multiple iterables into one.\n",
    "\n",
    "**`groupby`**: Group adjacent elements in an iterable that have the same key.\n",
    "\n",
    "\n",
    "\n",
    "**Group elements of a list using `groupby` based on a property**.\n",
    "\n"
   ]
  },
  {
   "cell_type": "code",
   "execution_count": 1,
   "metadata": {},
   "outputs": [
    {
     "name": "stdout",
     "output_type": "stream",
     "text": [
      "fruit [('fruit', 'apple'), ('fruit', 'banana')]\n",
      "vegetable [('vegetable', 'carrot')]\n",
      "fruit [('fruit', 'date')]\n"
     ]
    }
   ],
   "source": [
    "from itertools import groupby\n",
    "data = [(\"fruit\", \"apple\"), (\"fruit\", \"banana\"), (\"vegetable\", \"carrot\"), (\"fruit\", \"date\")]\n",
    "for key, group in groupby(data, lambda x: x[0]):\n",
    "    print(key, list(group))\n",
    "# fruit [('fruit', 'apple'), ('fruit', 'banana')]\n",
    "# vegetable [('vegetable', 'carrot')]\n",
    "# fruit [('fruit', 'date')]"
   ]
  },
  {
   "cell_type": "markdown",
   "metadata": {},
   "source": [
    "## Other `itertools` methods\n",
    "\n",
    "Here are some more methods provided by the `itertools` module, along with brief descriptions:\n",
    "\n",
    "- **`cycle(iterable)`**: This method returns an iterator that produces elements from the iterable indefinitely. Once the iterable is exhausted, it starts from the beginning again, creating an infinite cycle.\n",
    "- **`repeat(element, [times])`**: This method returns an iterator that returns the specified element endlessly or a specified number of times. If the times argument is omitted, it repeats indefinitely.\n",
    "- **`islice(iterable, [start], stop, [step])`**: This method returns an iterator that produces selected elements from the iterable, working like a slice operation. It takes start, stop, and step arguments like a traditional slice, and it's useful when working with large or infinite iterables.\n",
    "- **`combinations(iterable, r)`**: This method returns an iterator that produces all combinations of `r` length from the elements of the iterable. Each combination is generated in lexicographic sort order, so input iterable needs to be sorted for the output combinations to be also sorted.\n",
    "- **`permutations(iterable, r)`**: This method returns an iterator that produces all `r` length permutations of the elements from the iterable. Permutations are generated in lexicographic sort order.\n",
    "- **`product(*iterables, repeat=1)`**: This method returns an iterator that produces the cartesian product of the input iterables. It's equivalent to nested for-loops. The nested loops cycle like an odometer with the rightmost element advancing on every iteration.\n",
    "\n",
    "A few other useful `itertools` methods include:\n",
    "\n",
    "- **`dropwhile(predicate, iterable)`**: This method makes an iterator that drops elements from the iterable as long as the predicate is true; afterwards, it returns every remaining element.\n",
    "- **`takewhile(predicate, iterable)`**: The opposite of dropwhile(), this method makes an iterator and returns elements from the iterable as long as the predicate is true.\n",
    "- **`accumulate(iterable[, func, *, initial=None])`**: This method makes an iterator that returns accumulated sums, or accumulated results of other binary functions.\n",
    "- **`chain.from_iterable(iterable)`**: This method is used when you want to chain together an iterable of iterables. It's similar to `itertools.chain(*iterables)` but more memory-friendly.\n",
    "- **`compress(data, selectors)`**: This method makes an iterator that filters elements from data returning only those that have a corresponding element in selectors that evaluates to `True`.\n",
    "- **`count(start=0, step=1)`**: This method makes an iterator that returns evenly spaced values starting with number start.\n",
    "\n",
    "These methods can be combined in various ways to achieve complex iteration patterns in your code.\n",
    "\n",
    "\n",
    "There are many different itertools methods that can be used for your specific iteration use case. It is not useful to memorize them all, but it is useful to try exploring itertools in your day to day programming workflow (if working with iterators) in order to get a good grasp on how this group of tools works. Here’s another fun example:\n",
    "\n",
    "**Creating Infinite Iterators**: Use **`itertools.count()`** to create an infinite iterator of numbers starting from a specified number."
   ]
  },
  {
   "cell_type": "code",
   "execution_count": null,
   "metadata": {},
   "outputs": [],
   "source": [
    "for number in itertools.count(10):\n",
    "    if number > 20:\n",
    "        break\n",
    "    print(number, end=\" \")  # 10 11 12 ... 20"
   ]
  },
  {
   "cell_type": "markdown",
   "metadata": {},
   "source": [
    "\n",
    "You can find more documentation on the main `itertools` website [here](https://docs.python.org/3/library/itertools.html)."
   ]
  },
  {
   "cell_type": "markdown",
   "metadata": {},
   "source": [
    "### Using **`iter()`** and **`next()`**\n",
    "\n",
    "The exercises  below are designed to provide a clearer understanding of how to use **`iter()`** and **`next()`** in Python for iterating over various data types and structures.  As you work through these exercises you can begin to get the hang of how iterators work and get a feel for the types of tasks you can perform with `iter()` and `next()`."
   ]
  },
  {
   "cell_type": "markdown",
   "metadata": {},
   "source": [
    "## EXERCISES"
   ]
  },
  {
   "cell_type": "markdown",
   "metadata": {},
   "source": [
    "### **Exercise 1: Manually Iterate Over a List**\n",
    "\n",
    "**Problem**: Use **`iter()`** and **`next()`** to manually iterate over a list."
   ]
  },
  {
   "cell_type": "code",
   "execution_count": null,
   "metadata": {},
   "outputs": [],
   "source": [
    "### YOUR CODE HERE"
   ]
  },
  {
   "cell_type": "markdown",
   "metadata": {},
   "source": [
    "### **Exercise 2: Iterating Through a String**\n",
    "\n",
    "**Problem**: Manually iterate through a string using **`iter()`** and **`next()`**."
   ]
  },
  {
   "cell_type": "code",
   "execution_count": null,
   "metadata": {},
   "outputs": [],
   "source": [
    "### YOUR CODE HERE"
   ]
  },
  {
   "cell_type": "markdown",
   "metadata": {},
   "source": [
    "### **Exercise 3: Using `next()` with Default**\n",
    "\n",
    "**Problem**: Use **`next()`** with a default value to avoid **`StopIteration`** exception when the iterator is exhausted."
   ]
  },
  {
   "cell_type": "code",
   "execution_count": null,
   "metadata": {},
   "outputs": [],
   "source": [
    "### YOUR CODE HERE"
   ]
  },
  {
   "cell_type": "markdown",
   "metadata": {},
   "source": [
    "### **Exercise 4: Iterating Through a Dictionary**\n",
    "\n",
    "**Problem**: Use **`iter()`** on a dictionary's items view to iterate through its items."
   ]
  },
  {
   "cell_type": "code",
   "execution_count": null,
   "metadata": {},
   "outputs": [],
   "source": [
    "### YOUR CODE HERE"
   ]
  },
  {
   "cell_type": "markdown",
   "metadata": {},
   "source": [
    "### **Exercise 5: Iterating Through a File Line by Line**\n",
    "\n",
    "**Problem**: Open a text file and use **`iter()`** and **`next()`** to read the first two lines without a loop."
   ]
  },
  {
   "cell_type": "code",
   "execution_count": null,
   "metadata": {},
   "outputs": [],
   "source": [
    "# Assuming 'example.txt' contains at least two lines of text\n",
    "### YOUR CODE HERE"
   ]
  },
  {
   "cell_type": "markdown",
   "metadata": {},
   "source": [
    "### **Exercise 6: Continuous Iteration**\n",
    "\n",
    "**Problem:** Use `iter()` and `next()` to cycle through a list of colors indefinitely."
   ]
  },
  {
   "cell_type": "code",
   "execution_count": null,
   "metadata": {},
   "outputs": [],
   "source": [
    "### YOUR CODE HERE"
   ]
  },
  {
   "cell_type": "markdown",
   "metadata": {},
   "source": [
    "### **Exercise 7: Iterating with a Loop**\n",
    "\n",
    "**Problem**: Use a loop to iterate through a list using an iterator until all elements are exhausted. Handle the **`StopIteration`** exception."
   ]
  },
  {
   "cell_type": "code",
   "execution_count": null,
   "metadata": {},
   "outputs": [],
   "source": [
    "### YOUR CODE HERE"
   ]
  },
  {
   "cell_type": "markdown",
   "metadata": {},
   "source": [
    "### **Exercise 8: Detecting `StopIteration`**\n",
    "\n",
    "**Problem:** Use a while loop with **`iter()`** and **`next()`** to iterate over a list and catch the **`StopIteration`** exception."
   ]
  },
  {
   "cell_type": "code",
   "execution_count": null,
   "metadata": {},
   "outputs": [],
   "source": [
    "### YOUR CODE HERE"
   ]
  },
  {
   "cell_type": "markdown",
   "metadata": {},
   "source": [
    "### **Exercise 9: Custom Iterable Class**\n",
    "\n",
    "**Problem**: Create a custom iterable class that returns an iterator from **`iter()`** and uses **`next()`** to iterate over its data."
   ]
  },
  {
   "cell_type": "code",
   "execution_count": 3,
   "metadata": {},
   "outputs": [
    {
     "name": "stdout",
     "output_type": "stream",
     "text": [
      "1\n",
      "2\n",
      "3\n",
      "4\n"
     ]
    }
   ],
   "source": [
    "### YOUR CODE HERE"
   ]
  },
  {
   "cell_type": "markdown",
   "metadata": {},
   "source": [
    "### **Exercise 10: Infinite Iterator**\n",
    "\n",
    "**Problem**: Implement an infinite iterator class that returns consecutive integers starting from 1."
   ]
  },
  {
   "cell_type": "code",
   "execution_count": null,
   "metadata": {},
   "outputs": [],
   "source": [
    "### YOUR CODE HERE"
   ]
  },
  {
   "cell_type": "markdown",
   "metadata": {},
   "source": [
    "### **Exercise 11: Reverse List Iterator**\n",
    "\n",
    "**Problem**: Create an iterator class that returns the elements of a list in reverse order."
   ]
  },
  {
   "cell_type": "code",
   "execution_count": null,
   "metadata": {},
   "outputs": [],
   "source": [
    "### YOUR CODE HERE"
   ]
  },
  {
   "cell_type": "markdown",
   "metadata": {},
   "source": [
    "## ITERTOOLS EXERCISES\n",
    "\n",
    "The itertools module in Python standard library is designed for efficient looping and iteration. Here are exercises ranging from simple to more complex, demonstrating practical uses of itertools."
   ]
  },
  {
   "cell_type": "markdown",
   "metadata": {},
   "source": [
    "### Exercise 1: Cycling Through Elements\n",
    "\n",
    "**Problem**: Use **`itertools.cycle`** to cycle through a list of seasons indefinitely."
   ]
  },
  {
   "cell_type": "code",
   "execution_count": null,
   "metadata": {},
   "outputs": [],
   "source": [
    "### YOUR CODE HERE"
   ]
  },
  {
   "cell_type": "markdown",
   "metadata": {},
   "source": [
    "### Exercise 2: Generating Consecutive Numbers\n",
    "\n",
    "**Problem**: Use **`itertools.count`** to generate a sequence of consecutive numbers starting from 0."
   ]
  },
  {
   "cell_type": "code",
   "execution_count": null,
   "metadata": {},
   "outputs": [],
   "source": [
    "### YOUR CODE HERE"
   ]
  },
  {
   "cell_type": "markdown",
   "metadata": {},
   "source": [
    "### Exercise 3: Repeating an Element\n",
    "\n",
    "**Problem**: Use **`itertools.repeat`** to repeat the word \"Hello\" three times."
   ]
  },
  {
   "cell_type": "code",
   "execution_count": null,
   "metadata": {},
   "outputs": [],
   "source": [
    "### YOUR CODE HERE"
   ]
  },
  {
   "cell_type": "markdown",
   "metadata": {},
   "source": [
    "### Exercise 3: Repeating an Element\n",
    "\n",
    "**Problem**: Use **`itertools.repeat`** to repeat the word \"Hello\" three times."
   ]
  },
  {
   "cell_type": "code",
   "execution_count": null,
   "metadata": {},
   "outputs": [],
   "source": [
    "### YOUR CODE HERE"
   ]
  },
  {
   "cell_type": "markdown",
   "metadata": {},
   "source": [
    "### Exercise 4: Combining Elements of Two Lists\n",
    "\n",
    "**Problem**: Use **`itertools.chain`** to combine elements from two lists into a single iterable."
   ]
  },
  {
   "cell_type": "code",
   "execution_count": null,
   "metadata": {},
   "outputs": [],
   "source": [
    "### YOUR CODE HERE"
   ]
  },
  {
   "cell_type": "markdown",
   "metadata": {},
   "source": [
    "### Exercise 5: Pairwise Combinations\n",
    "\n",
    "**Problem**: Use **`itertools.combinations`** to find all unique pairs of numbers in a list."
   ]
  },
  {
   "cell_type": "code",
   "execution_count": null,
   "metadata": {},
   "outputs": [],
   "source": [
    "### YOUR CODE HERE"
   ]
  },
  {
   "cell_type": "markdown",
   "metadata": {},
   "source": [
    "### Exercise 6: Producing Cartesian Product\n",
    "\n",
    "**Problem**: Use **`itertools.product`** to produce the Cartesian product of colors and sizes."
   ]
  },
  {
   "cell_type": "code",
   "execution_count": null,
   "metadata": {},
   "outputs": [],
   "source": [
    "### YOUR CODE HERE"
   ]
  },
  {
   "cell_type": "markdown",
   "metadata": {},
   "source": [
    "### Exercise 7: Grouping Adjacent Elements\n",
    "\n",
    "**Problem**: Use **`itertools.groupby`** to group consecutive numbers in a list that share the same even or odd property."
   ]
  },
  {
   "cell_type": "code",
   "execution_count": null,
   "metadata": {},
   "outputs": [],
   "source": [
    "### YOUR CODE HERE"
   ]
  },
  {
   "cell_type": "markdown",
   "metadata": {},
   "source": [
    "### Exercise 8: Creating Permutations\n",
    "\n",
    "**Problem**: Use **`itertools.permutations`** to create all possible three-letter arrangements from \"ABC\"."
   ]
  },
  {
   "cell_type": "code",
   "execution_count": null,
   "metadata": {},
   "outputs": [],
   "source": [
    "### YOUR CODE HERE"
   ]
  },
  {
   "cell_type": "markdown",
   "metadata": {},
   "source": [
    "### Exercise 9: Filtering with Predicates\n",
    "\n",
    "**Problem**: Use **`itertools.filterfalse`** to remove negative numbers from a list."
   ]
  },
  {
   "cell_type": "code",
   "execution_count": null,
   "metadata": {},
   "outputs": [],
   "source": [
    "### YOUR CODE HERE"
   ]
  },
  {
   "cell_type": "markdown",
   "metadata": {},
   "source": [
    "### Exercise 10: Zipping Longest\n",
    "\n",
    "**Problem**: Use **`itertools.zip_longest`** to zip two lists of different lengths."
   ]
  },
  {
   "cell_type": "code",
   "execution_count": null,
   "metadata": {},
   "outputs": [],
   "source": [
    "### YOUR CODE HERE"
   ]
  }
 ],
 "metadata": {
  "kernelspec": {
   "display_name": "myenv",
   "language": "python",
   "name": "python3"
  },
  "language_info": {
   "codemirror_mode": {
    "name": "ipython",
    "version": 3
   },
   "file_extension": ".py",
   "mimetype": "text/x-python",
   "name": "python",
   "nbconvert_exporter": "python",
   "pygments_lexer": "ipython3",
   "version": "3.11.8"
  }
 },
 "nbformat": 4,
 "nbformat_minor": 2
}
