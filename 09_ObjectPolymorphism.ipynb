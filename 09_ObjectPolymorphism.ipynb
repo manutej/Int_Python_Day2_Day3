{
 "cells": [
  {
   "cell_type": "markdown",
   "metadata": {},
   "source": [
    "# Polymorphism in OOP\n",
    "\n",
    "## Polymorphism\n",
    "\n",
    "Polymorphism is a fundamental concept in OOP that allows objects of different classes to be treated as objects of a common base class. It enables you to write code that can work with objects of multiple types, providing flexibility and extensibility to your programs.\n",
    "\n",
    "There are two main types of polymorphism in Python:\n",
    "\n",
    "1. **Method Overriding** (Runtime Polymorphism)\n",
    "2. **Method Overloading** (Compile-time Polymorphism)\n",
    "\n",
    "Let's start with Method Overriding…\n",
    "\n",
    "### Method Overriding\n",
    "\n",
    "Method Overriding (Runtime Polymorphism):\n",
    "\n",
    "- Method overriding occurs when a subclass defines a method with the same name as a method in its superclass.\n",
    "- The overridden method in the subclass provides a different implementation than the one in the superclass.\n",
    "- When the method is called on an instance of the subclass, the overridden method in the subclass is executed instead of the method in the superclass.\n",
    "- Method overriding allows subclasses to modify or extend the behavior inherited from the superclass.\n",
    "\n",
    "Here's an example that demonstrates method overriding:\n",
    "\n",
    "### Example 1: Social Media Notifications (Method Overriding)\n",
    "Problem Description:\n",
    "You are building a social media application that sends notifications to users for different types of events. \n",
    "\n",
    "1. Create a base class called `Notification` with a method `send()` that prints a generic notification message.\n",
    "2. Create two subclasses, `CommentNotification` and `LikeNotification`, that inherit from the `Notification` class. \n",
    "3. Override the `send()` method in each subclass to provide specific notification messages for comments and likes, respectively.\n",
    "4. Test the classes by creating instances of `CommentNotification` and `LikeNotification`, and calling their respective `send()` methods."
   ]
  },
  {
   "cell_type": "code",
   "execution_count": null,
   "metadata": {},
   "outputs": [],
   "source": [
    "class Notification:\n",
    "    def send(self):\n",
    "        print(\"Sending a generic notification.\")\n",
    "\n",
    "class CommentNotification(Notification):\n",
    "    def __init__(self, username, comment):\n",
    "        self.username = username\n",
    "        self.comment = comment\n",
    "\n",
    "    def send(self):\n",
    "        print(f\"New comment from {self.username}: {self.comment}\")\n",
    "\n",
    "class LikeNotification(Notification):\n",
    "    def __init__(self, username, post_title):\n",
    "        self.username = username\n",
    "        self.post_title = post_title\n",
    "\n",
    "    def send(self):\n",
    "        print(f\"{self.username} liked your post: {self.post_title}\")\n",
    "\n",
    "# Create instances of the subclasses\n",
    "comment_notification = CommentNotification(\"john_doe\", \"Great post! Keep up the good work.\")\n",
    "like_notification = LikeNotification(\"jane_smith\", \"My Summer Vacation\")\n",
    "\n",
    "# Call the send method on each instance\n",
    "comment_notification.send()  # Output: New comment from john_doe: Great post! Keep up the good work.\n",
    "like_notification.send()     # Output: jane_smith liked your post: My Summer Vacation"
   ]
  },
  {
   "cell_type": "markdown",
   "metadata": {},
   "source": [
    "Explanation:\n",
    "\n",
    "- We define a base class called `Notification` with a method `send()` that prints a generic notification message.\n",
    "- We create two subclasses, `CommentNotification` and `LikeNotification`, that inherit from the `Notification` class.\n",
    "- Each subclass has its own `__init__()` method to initialize specific attributes (username and comment/post_title).\n",
    "- In each subclass, we override the `send()` method to provide a customized notification message specific to comments and likes.\n",
    "- We create instances of the `CommentNotification` and `LikeNotification` classes, passing the required arguments.\n",
    "- When we call the `send()` method on each instance, the appropriate overridden method in the respective subclass is executed, sending the specific notification message."
   ]
  },
  {
   "cell_type": "markdown",
   "metadata": {},
   "source": [
    "### Example 2: Online Payment System (Method Overriding)\n",
    "\n",
    "You are building an online payment system that supports different payment methods. \n",
    "\n",
    "1. Create a base class called `PaymentMethod` with a method `process_payment()` that prints a generic payment processing message.\n",
    "2. Create two subclasses, `CreditCardPayment` and `PayPalPayment`, that inherit from the `PaymentMethod` class. \n",
    "3. Override the `process_payment()` method in each subclass to provide specific payment processing logic for credit cards and PayPal, respectively.\n",
    "4. Test the classes by creating instances of `CreditCardPayment` and `PayPalPayment`, and calling their respective `process_payment()` methods."
   ]
  },
  {
   "cell_type": "code",
   "execution_count": null,
   "metadata": {},
   "outputs": [],
   "source": [
    "class PaymentMethod:\n",
    "    def process_payment(self, amount):\n",
    "        print(f\"Processing payment of ${amount}\")\n",
    "\n",
    "class CreditCardPayment(PaymentMethod):\n",
    "    def __init__(self, card_number, expiry_date, cvv):\n",
    "        self.card_number = card_number\n",
    "        self.expiry_date = expiry_date\n",
    "        self.cvv = cvv\n",
    "\n",
    "    def process_payment(self, amount):\n",
    "        print(f\"Processing credit card payment of ${amount}\")\n",
    "        print(f\"Card Number: {self.card_number}\")\n",
    "        print(f\"Expiry Date: {self.expiry_date}\")\n",
    "        print(f\"CVV: {self.cvv}\")\n",
    "\n",
    "class PayPalPayment(PaymentMethod):\n",
    "    def __init__(self, email):\n",
    "        self.email = email\n",
    "\n",
    "    def process_payment(self, amount):\n",
    "        print(f\"Processing PayPal payment of ${amount}\")\n",
    "        print(f\"Email: {self.email}\")\n",
    "\n",
    "# Create instances of the subclasses\n",
    "credit_card_payment = CreditCardPayment(\"1234567890123456\", \"12/25\", \"123\")\n",
    "paypal_payment = PayPalPayment(\"user@example.com\")\n",
    "\n",
    "# Call the process_payment method on each instance\n",
    "credit_card_payment.process_payment(100)\n",
    "# Output:\n",
    "# Processing credit card payment of $100\n",
    "# Card Number: 1234567890123456\n",
    "# Expiry Date: 12/25\n",
    "# CVV: 123\n",
    "\n",
    "paypal_payment.process_payment(50)\n",
    "# Output:\n",
    "# Processing PayPal payment of $50\n",
    "# Email: user@example.com"
   ]
  },
  {
   "cell_type": "markdown",
   "metadata": {},
   "source": [
    "### Method Overloading\n",
    "\n",
    "Method Overloading, or **Compile-time Polymorphism**:\n",
    "\n",
    "- Method overloading refers to the ability to **define multiple methods** with the same name but *different parameters* within a single class.\n",
    "- Python does not support method overloading in the same way as languages like Java or C++.\n",
    "- However, you can achieve a similar effect by using default arguments or variable-length arguments (`args` and `*kwargs`)."
   ]
  },
  {
   "cell_type": "markdown",
   "metadata": {},
   "source": [
    "### Example 1: Calculator"
   ]
  },
  {
   "cell_type": "code",
   "execution_count": null,
   "metadata": {},
   "outputs": [],
   "source": [
    "class Calculator:\n",
    "    def add(self, a, b=None, c=None):\n",
    "        if b is None and c is None:\n",
    "            return a\n",
    "        elif c is None:\n",
    "            return a + b\n",
    "        else:\n",
    "            return a + b + c\n",
    "\n",
    "# Create an instance of the Calculator class\n",
    "calc = Calculator()\n",
    "\n",
    "# Call the add method with different arguments\n",
    "print(calc.add(5))        # Output: 5\n",
    "print(calc.add(5, 3))     # Output: 8\n",
    "print(calc.add(5, 3, 2))  # Output: 10"
   ]
  },
  {
   "cell_type": "markdown",
   "metadata": {},
   "source": [
    "- We define a class called `Calculator` with a method `add()` that takes three parameters: `a`, `b`, and `c`.\n",
    "- The `b` and `c` parameters have default values of `None`.\n",
    "- Inside the `add()` method, we use conditional statements to check the presence of `b` and `c` and perform the appropriate addition operation based on the provided arguments.\n",
    "- We create an instance of the `Calculator` class and call the `add()` method with different combinations of arguments.\n",
    "- Depending on the number of arguments provided, the appropriate addition operation is performed."
   ]
  },
  {
   "cell_type": "markdown",
   "metadata": {},
   "source": [
    "### Example 2 File Compression\n",
    "\n",
    "You are developing a file compression utility that supports compressing files using different algorithms. Create a class called `FileCompressor` with a method `compress()` that takes a file path as input and compresses the file.\n",
    "\n",
    "Implement the `compress()` method to support the following scenarios:\n",
    "\n",
    "- If no compression algorithm is specified, use a default algorithm (e.g., ZIP).\n",
    "- If a specific compression algorithm is specified, use that algorithm to compress the file.\n",
    "\n",
    "Test the `FileCompressor` class by creating an instance and calling the `compress()` method with different compression configurations."
   ]
  },
  {
   "cell_type": "code",
   "execution_count": null,
   "metadata": {},
   "outputs": [],
   "source": [
    "class FileCompressor:\n",
    "    def compress(self, file_path, algorithm=None):\n",
    "        if algorithm is None:\n",
    "            print(f\"Compressing {file_path} using the default algorithm (ZIP)\")\n",
    "        else:\n",
    "            print(f\"Compressing {file_path} using the {algorithm} algorithm\")\n",
    "\n",
    "# Create an instance of the FileCompressor class\n",
    "compressor = FileCompressor()\n",
    "\n",
    "# Call the compress method with different compression configurations\n",
    "compressor.compress(\"file.txt\")\n",
    "# Output: Compressing file.txt using the default algorithm (ZIP)\n",
    "\n",
    "compressor.compress(\"image.png\", \"JPEG\")\n",
    "# Output: Compressing image.png using the JPEG algorithm\n"
   ]
  },
  {
   "cell_type": "markdown",
   "metadata": {},
   "source": [
    "### Example 3: Text Formatter (Method Overloading)\n",
    "You are creating a text formatting utility that can format text in different ways. Create a class called `TextFormatter` with a method `format_text()` that takes a string as input and returns the formatted text.\n",
    "\n",
    "Implement the `format_text()` method to support the following scenarios:\n",
    "\n",
    "- If no formatting option is specified, return the original text.\n",
    "- If the \"uppercase\" option is specified, convert the text to uppercase.\n",
    "- If the \"lowercase\" option is specified, convert the text to lowercase.\n",
    "- If both \"uppercase\" and \"lowercase\" options are specified, raise a `ValueError` indicating that both options cannot be applied simultaneously.\n",
    "\n",
    "Test the `TextFormatter` class by creating an instance and calling the `format_text()` method with different formatting options."
   ]
  },
  {
   "cell_type": "code",
   "execution_count": null,
   "metadata": {},
   "outputs": [],
   "source": [
    "class TextFormatter:\n",
    "    def format_text(self, text, *options):\n",
    "        if not options:\n",
    "            return text\n",
    "        elif \"uppercase\" in options and \"lowercase\" in options:\n",
    "            raise ValueError(\"Cannot apply both uppercase and lowercase formatting simultaneously.\")\n",
    "        elif \"uppercase\" in options:\n",
    "            return text.upper()\n",
    "        elif \"lowercase\" in options:\n",
    "            return text.lower()\n",
    "\n",
    "# Create an instance of the TextFormatter class\n",
    "formatter = TextFormatter()\n",
    "\n",
    "# Call the format_text method with different formatting options\n",
    "print(formatter.format_text(\"Hello, World!\"))\n",
    "# Output: Hello, World!\n",
    "\n",
    "print(formatter.format_text(\"Hello, World!\", \"uppercase\"))\n",
    "# Output: HELLO, WORLD!\n",
    "\n",
    "print(formatter.format_text(\"Hello, World!\", \"lowercase\"))\n",
    "# Output: hello, world!\n",
    "\n",
    "print(formatter.format_text(\"Hello, World!\", \"uppercase\", \"lowercase\"))\n",
    "# Output: ValueError: Cannot apply both uppercase and lowercase formatting simultaneously."
   ]
  },
  {
   "cell_type": "markdown",
   "metadata": {},
   "source": [
    "## Insurance Context Exercises (Real World Application)"
   ]
  },
  {
   "cell_type": "markdown",
   "metadata": {},
   "source": [
    "### Life Insurance Policy\n",
    "\n",
    "You are developing a life insurance management system for an insurance company. The system should handle different types of life insurance policies for individuals, employers, and professionals. Create a base class called `LifeInsurancePolicy` with common attributes and methods, and then create subclasses for each type of policy.\n",
    "\n",
    "The `LifeInsurancePolicy` class should have the following attributes:\n",
    "\n",
    "- `policy_number` (string)\n",
    "- `insured_name` (string)\n",
    "- `coverage_amount` (float)\n",
    "- `premium` (float)\n",
    "\n",
    "The `LifeInsurancePolicy` class should have the following methods:\n",
    "\n",
    "- `__init__(self, policy_number, insured_name, coverage_amount)`: Initializes the policy with the given attributes.\n",
    "- `calculate_premium(self)`: Calculates and returns the premium based on the coverage amount. (Implement this method in the subclasses.)\n",
    "- `display_policy_info(self)`: Displays the policy information.\n",
    "\n",
    "Create three subclasses: `IndividualLifeInsurancePolicy`, `EmployerLifeInsurancePolicy`, and `ProfessionalLifeInsurancePolicy`. Each subclass should override the `calculate_premium()` method to provide a specific premium calculation formula based on the policy type."
   ]
  },
  {
   "cell_type": "markdown",
   "metadata": {},
   "source": [
    "Output:\n",
    "\n",
    "```\n",
    "Policy Number: I001\n",
    "Insured Name: John Doe\n",
    "Coverage Amount: $100000.00\n",
    "Premium: $2000.00\n",
    "---\n",
    "Policy Number: E001\n",
    "Insured Name: ACME Inc.\n",
    "Coverage Amount: $500000.00\n",
    "Premium: $37500.00\n",
    "---\n",
    "Policy Number: P001\n",
    "Insured Name: Dr. Jane Smith\n",
    "Coverage Amount: $200000.00\n",
    "Premium: $5000.00\n",
    "```"
   ]
  },
  {
   "cell_type": "code",
   "execution_count": null,
   "metadata": {},
   "outputs": [],
   "source": [
    "### YOUR CODE HERE"
   ]
  },
  {
   "cell_type": "markdown",
   "metadata": {},
   "source": [
    "### Claims Management System:\n",
    "\n",
    "- Create a base class called `Claim` with attributes like `claim_number`, `date_of_loss`, `status`, and methods like `submit_claim()`, `update_status()`, and `calculate_payout()`.\n",
    "- Implement subclasses for different types of claims, such as `AutoClaim`, `PropertyClaim`, and `HealthClaim`, each with their own specific attributes and methods.\n",
    "- Utilize polymorphism to handle different claim types through a common interface and implement specific claim processing logic in each subclass."
   ]
  },
  {
   "cell_type": "code",
   "execution_count": 1,
   "metadata": {},
   "outputs": [
    {
     "name": "stdout",
     "output_type": "stream",
     "text": [
      "Claim AC001 submitted.\n",
      "Claim PC001 submitted.\n",
      "Claim HC001 submitted.\n",
      "Claim AC001 status updated to In Progress.\n",
      "Claim PC001 status updated to Closed.\n",
      "Claim HC001 status updated to In Review.\n",
      "Auto Claim Payout: $7500.0\n",
      "Property Claim Payout: $20000\n",
      "Health Claim Payout: $5400.0\n"
     ]
    }
   ],
   "source": [
    "### YOUR CODE HERE"
   ]
  },
  {
   "cell_type": "markdown",
   "metadata": {},
   "source": [
    "### Customer Management System:\n",
    "\n",
    "- Design a base class called `Customer` with attributes like `customer_id`, `name`, `contact_info`, and methods like `update_contact_info()` and `get_policies()`.\n",
    "- Create subclasses for different customer types, such as `IndividualCustomer`, `BusinessCustomer`, and `NonProfitCustomer`, each with their own specific attributes and behavior.\n",
    "- Use inheritance to share common functionality among customer types while allowing for customization in each subclass."
   ]
  },
  {
   "cell_type": "code",
   "execution_count": null,
   "metadata": {},
   "outputs": [],
   "source": [
    "### YOUR CODE HERE"
   ]
  },
  {
   "cell_type": "markdown",
   "metadata": {},
   "source": [
    "### Policy Renewal System:\n",
    "\n",
    "- Develop a base class called `Policy` with attributes like `policy_number`, `start_date`, `end_date`, and methods like `renew_policy()` and `calculate_renewal_premium()`.\n",
    "- Implement subclasses for different policy types, such as `AutoPolicy`, `HomePolicy`, and `LifePolicy`, each with their own specific renewal logic and premium calculation.\n",
    "- Utilize polymorphism to handle policy renewals through a common interface while allowing for different renewal processes based on the policy type."
   ]
  },
  {
   "cell_type": "code",
   "execution_count": 2,
   "metadata": {},
   "outputs": [
    {
     "name": "stdout",
     "output_type": "stream",
     "text": [
      "Policy AP001 renewed. New end date: 2024-12-31\n",
      "Policy HP001 renewed. New end date: 2025-01-31\n",
      "Policy LP001 renewed. New end date: 2033-02-28\n",
      "Auto Policy Renewal Premium: $1200.0\n",
      "Home Policy Renewal Premium: $1650.0000000000002\n",
      "Life Policy Renewal Premium: $2300.0\n"
     ]
    }
   ],
   "source": [
    "### YOUR CODE HERE"
   ]
  },
  {
   "cell_type": "markdown",
   "metadata": {},
   "source": [
    "### Insurance Agent Management System:\n",
    "\n",
    "- Create a base class called `InsuranceAgent` with attributes like `agent_id`, `name`, `contact_info`, and methods like `assign_policy()` and `calculate_commission()`.\n",
    "- Implement subclasses for different agent types, such as `CaptiveAgent`, `IndependentAgent`, and `BrokerAgent`, each with their own specific commission structures and responsibilities.\n",
    "- Use inheritance to share common functionality among agent types while allowing for specific behavior and calculations in each subclass."
   ]
  },
  {
   "cell_type": "code",
   "execution_count": null,
   "metadata": {},
   "outputs": [],
   "source": [
    "### YOUR CODE HERE"
   ]
  },
  {
   "cell_type": "markdown",
   "metadata": {},
   "source": [
    "### Risk Assessment System:\n",
    "\n",
    "- Design a base class called `RiskFactor` with attributes like `name`, `description`, and methods like `calculate_risk_score()`.\n",
    "- Create subclasses for different risk factor categories, such as `HealthRiskFactor`, `LifestyleRiskFactor`, and `OccupationRiskFactor`, each with their own specific risk assessment algorithms.\n",
    "- Utilize polymorphism to assess risks through a common interface while allowing for different risk calculation methods based on the risk factor type."
   ]
  },
  {
   "cell_type": "code",
   "execution_count": 3,
   "metadata": {},
   "outputs": [
    {
     "name": "stdout",
     "output_type": "stream",
     "text": [
      "Health Risk Score: 6\n",
      "Lifestyle Risk Score: 6\n",
      "Occupation Risk Score: 16\n",
      "Total Risk Score: 28\n"
     ]
    }
   ],
   "source": [
    "### YOUR CODE HERE"
   ]
  }
 ],
 "metadata": {
  "kernelspec": {
   "display_name": "myenv",
   "language": "python",
   "name": "python3"
  },
  "language_info": {
   "codemirror_mode": {
    "name": "ipython",
    "version": 3
   },
   "file_extension": ".py",
   "mimetype": "text/x-python",
   "name": "python",
   "nbconvert_exporter": "python",
   "pygments_lexer": "ipython3",
   "version": "3.11.8"
  }
 },
 "nbformat": 4,
 "nbformat_minor": 2
}
